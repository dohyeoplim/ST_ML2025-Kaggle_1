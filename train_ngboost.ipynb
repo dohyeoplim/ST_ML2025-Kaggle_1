{
 "cells": [
  {
   "cell_type": "code",
   "id": "initial_id",
   "metadata": {
    "collapsed": true,
    "ExecuteTime": {
     "end_time": "2025-05-14T11:41:15.388211Z",
     "start_time": "2025-05-14T11:41:15.384354Z"
    }
   },
   "source": [
    "import pandas as pd\n",
    "import numpy as np\n",
    "from sklearn.model_selection import train_test_split\n",
    "from sklearn.metrics import r2_score, root_mean_squared_error\n",
    "import warnings\n",
    "from datetime import datetime\n",
    "from ngboost import NGBRegressor\n",
    "from ngboost.distns import Normal"
   ],
   "outputs": [],
   "execution_count": 8
  },
  {
   "metadata": {
    "ExecuteTime": {
     "end_time": "2025-05-14T11:41:15.413144Z",
     "start_time": "2025-05-14T11:41:15.410932Z"
    }
   },
   "cell_type": "code",
   "source": "warnings.filterwarnings('ignore')",
   "id": "b3823c6ee3a6aaa9",
   "outputs": [],
   "execution_count": 9
  },
  {
   "metadata": {
    "ExecuteTime": {
     "end_time": "2025-05-14T11:41:15.626633Z",
     "start_time": "2025-05-14T11:41:15.433882Z"
    }
   },
   "cell_type": "code",
   "source": [
    "train_df_final = pd.read_csv('./input/processed/train_df_imputed.csv')\n",
    "test_df_final = pd.read_csv('./input/processed/test_df_imputed.csv')"
   ],
   "id": "8760a9284af2dfa2",
   "outputs": [],
   "execution_count": 10
  },
  {
   "metadata": {
    "ExecuteTime": {
     "end_time": "2025-05-14T11:41:15.648304Z",
     "start_time": "2025-05-14T11:41:15.640766Z"
    }
   },
   "cell_type": "code",
   "source": "train_df_final.head()",
   "id": "e5c72425a94b9c92",
   "outputs": [
    {
     "data": {
      "text/plain": [
       "   id  station station_name   date  cloud_cover_0  cloud_cover_1  \\\n",
       "0   0       98          동두천  01-01            0.0            0.0   \n",
       "1   1       98          동두천  01-02            0.0            0.0   \n",
       "2   2       98          동두천  01-03            0.0            0.0   \n",
       "3   3       98          동두천  01-04            0.0            0.0   \n",
       "4   4       98          동두천  01-05            0.0            0.0   \n",
       "\n",
       "   cloud_cover_10  cloud_cover_11  cloud_cover_12  cloud_cover_13  ...  \\\n",
       "0             9.0             0.0             3.0             3.0  ...   \n",
       "1             0.0             0.0             0.0             0.0  ...   \n",
       "2             0.0             0.0             0.0             0.0  ...   \n",
       "3             2.0             0.0             0.0             1.0  ...   \n",
       "4             0.0             0.0             0.0             0.0  ...   \n",
       "\n",
       "   wind_speed_23  wind_speed_3  wind_speed_4  wind_speed_5  wind_speed_6  \\\n",
       "0            2.3           0.6           0.3           0.7           0.6   \n",
       "1            0.7           0.2           0.0           1.1           1.3   \n",
       "2            0.4           1.5           0.8           0.8           0.9   \n",
       "3            0.9           0.3           0.5           0.2           0.5   \n",
       "4            1.4           1.1           1.6           1.4           1.8   \n",
       "\n",
       "   wind_speed_7  wind_speed_8  wind_speed_9  climatology_temp    target  \n",
       "0           0.7           0.8           0.1         -2.707143 -3.992857  \n",
       "1           0.5           0.9           0.4         -3.646429 -1.653571  \n",
       "2           1.0           1.1           0.1         -2.694643 -0.005357  \n",
       "3           1.3           0.5           0.2         -2.501786 -0.898214  \n",
       "4           0.5           1.1           0.6         -2.625000 -1.775000  \n",
       "\n",
       "[5 rows x 342 columns]"
      ],
      "text/html": [
       "<div>\n",
       "<style scoped>\n",
       "    .dataframe tbody tr th:only-of-type {\n",
       "        vertical-align: middle;\n",
       "    }\n",
       "\n",
       "    .dataframe tbody tr th {\n",
       "        vertical-align: top;\n",
       "    }\n",
       "\n",
       "    .dataframe thead th {\n",
       "        text-align: right;\n",
       "    }\n",
       "</style>\n",
       "<table border=\"1\" class=\"dataframe\">\n",
       "  <thead>\n",
       "    <tr style=\"text-align: right;\">\n",
       "      <th></th>\n",
       "      <th>id</th>\n",
       "      <th>station</th>\n",
       "      <th>station_name</th>\n",
       "      <th>date</th>\n",
       "      <th>cloud_cover_0</th>\n",
       "      <th>cloud_cover_1</th>\n",
       "      <th>cloud_cover_10</th>\n",
       "      <th>cloud_cover_11</th>\n",
       "      <th>cloud_cover_12</th>\n",
       "      <th>cloud_cover_13</th>\n",
       "      <th>...</th>\n",
       "      <th>wind_speed_23</th>\n",
       "      <th>wind_speed_3</th>\n",
       "      <th>wind_speed_4</th>\n",
       "      <th>wind_speed_5</th>\n",
       "      <th>wind_speed_6</th>\n",
       "      <th>wind_speed_7</th>\n",
       "      <th>wind_speed_8</th>\n",
       "      <th>wind_speed_9</th>\n",
       "      <th>climatology_temp</th>\n",
       "      <th>target</th>\n",
       "    </tr>\n",
       "  </thead>\n",
       "  <tbody>\n",
       "    <tr>\n",
       "      <th>0</th>\n",
       "      <td>0</td>\n",
       "      <td>98</td>\n",
       "      <td>동두천</td>\n",
       "      <td>01-01</td>\n",
       "      <td>0.0</td>\n",
       "      <td>0.0</td>\n",
       "      <td>9.0</td>\n",
       "      <td>0.0</td>\n",
       "      <td>3.0</td>\n",
       "      <td>3.0</td>\n",
       "      <td>...</td>\n",
       "      <td>2.3</td>\n",
       "      <td>0.6</td>\n",
       "      <td>0.3</td>\n",
       "      <td>0.7</td>\n",
       "      <td>0.6</td>\n",
       "      <td>0.7</td>\n",
       "      <td>0.8</td>\n",
       "      <td>0.1</td>\n",
       "      <td>-2.707143</td>\n",
       "      <td>-3.992857</td>\n",
       "    </tr>\n",
       "    <tr>\n",
       "      <th>1</th>\n",
       "      <td>1</td>\n",
       "      <td>98</td>\n",
       "      <td>동두천</td>\n",
       "      <td>01-02</td>\n",
       "      <td>0.0</td>\n",
       "      <td>0.0</td>\n",
       "      <td>0.0</td>\n",
       "      <td>0.0</td>\n",
       "      <td>0.0</td>\n",
       "      <td>0.0</td>\n",
       "      <td>...</td>\n",
       "      <td>0.7</td>\n",
       "      <td>0.2</td>\n",
       "      <td>0.0</td>\n",
       "      <td>1.1</td>\n",
       "      <td>1.3</td>\n",
       "      <td>0.5</td>\n",
       "      <td>0.9</td>\n",
       "      <td>0.4</td>\n",
       "      <td>-3.646429</td>\n",
       "      <td>-1.653571</td>\n",
       "    </tr>\n",
       "    <tr>\n",
       "      <th>2</th>\n",
       "      <td>2</td>\n",
       "      <td>98</td>\n",
       "      <td>동두천</td>\n",
       "      <td>01-03</td>\n",
       "      <td>0.0</td>\n",
       "      <td>0.0</td>\n",
       "      <td>0.0</td>\n",
       "      <td>0.0</td>\n",
       "      <td>0.0</td>\n",
       "      <td>0.0</td>\n",
       "      <td>...</td>\n",
       "      <td>0.4</td>\n",
       "      <td>1.5</td>\n",
       "      <td>0.8</td>\n",
       "      <td>0.8</td>\n",
       "      <td>0.9</td>\n",
       "      <td>1.0</td>\n",
       "      <td>1.1</td>\n",
       "      <td>0.1</td>\n",
       "      <td>-2.694643</td>\n",
       "      <td>-0.005357</td>\n",
       "    </tr>\n",
       "    <tr>\n",
       "      <th>3</th>\n",
       "      <td>3</td>\n",
       "      <td>98</td>\n",
       "      <td>동두천</td>\n",
       "      <td>01-04</td>\n",
       "      <td>0.0</td>\n",
       "      <td>0.0</td>\n",
       "      <td>2.0</td>\n",
       "      <td>0.0</td>\n",
       "      <td>0.0</td>\n",
       "      <td>1.0</td>\n",
       "      <td>...</td>\n",
       "      <td>0.9</td>\n",
       "      <td>0.3</td>\n",
       "      <td>0.5</td>\n",
       "      <td>0.2</td>\n",
       "      <td>0.5</td>\n",
       "      <td>1.3</td>\n",
       "      <td>0.5</td>\n",
       "      <td>0.2</td>\n",
       "      <td>-2.501786</td>\n",
       "      <td>-0.898214</td>\n",
       "    </tr>\n",
       "    <tr>\n",
       "      <th>4</th>\n",
       "      <td>4</td>\n",
       "      <td>98</td>\n",
       "      <td>동두천</td>\n",
       "      <td>01-05</td>\n",
       "      <td>0.0</td>\n",
       "      <td>0.0</td>\n",
       "      <td>0.0</td>\n",
       "      <td>0.0</td>\n",
       "      <td>0.0</td>\n",
       "      <td>0.0</td>\n",
       "      <td>...</td>\n",
       "      <td>1.4</td>\n",
       "      <td>1.1</td>\n",
       "      <td>1.6</td>\n",
       "      <td>1.4</td>\n",
       "      <td>1.8</td>\n",
       "      <td>0.5</td>\n",
       "      <td>1.1</td>\n",
       "      <td>0.6</td>\n",
       "      <td>-2.625000</td>\n",
       "      <td>-1.775000</td>\n",
       "    </tr>\n",
       "  </tbody>\n",
       "</table>\n",
       "<p>5 rows × 342 columns</p>\n",
       "</div>"
      ]
     },
     "execution_count": 11,
     "metadata": {},
     "output_type": "execute_result"
    }
   ],
   "execution_count": 11
  },
  {
   "metadata": {},
   "cell_type": "markdown",
   "source": "# Dataset Splitting",
   "id": "41b468a4672589b9"
  },
  {
   "metadata": {
    "ExecuteTime": {
     "end_time": "2025-05-14T11:41:30.583372Z",
     "start_time": "2025-05-14T11:41:30.532718Z"
    }
   },
   "cell_type": "code",
   "source": [
    "features = [col for col in train_df_final.columns if col not in ['id', 'target', 'station', 'date', 'station_name']]\n",
    "\n",
    "X = train_df_final[features].values\n",
    "y = train_df_final['target'].values\n",
    "X_test = test_df_final[features].values\n",
    "\n",
    "X_train, X_val, y_train, y_val = train_test_split(X, y, test_size=0.2, random_state=42)"
   ],
   "id": "fa7ac8a0369aaa78",
   "outputs": [],
   "execution_count": 14
  },
  {
   "metadata": {
    "ExecuteTime": {
     "end_time": "2025-05-14T11:45:49.233974Z",
     "start_time": "2025-05-14T11:41:30.831074Z"
    }
   },
   "cell_type": "code",
   "source": [
    "regressor = NGBRegressor()\n",
    "\n",
    "regressor.fit(X_train, y_train)\n",
    "y_pred = regressor.predict(X_val)\n",
    "\n",
    "r2 = r2_score(y_val, y_pred)\n",
    "rmse = root_mean_squared_error(y_val, y_pred)\n",
    "print(f\"\\n✅ NGB R²: {r2:.4f} | RMSE: {rmse:.4f}\")"
   ],
   "id": "11f117a1cef870f7",
   "outputs": [
    {
     "name": "stdout",
     "output_type": "stream",
     "text": [
      "[iter 0] loss=2.5012 val_loss=0.0000 scale=1.0000 norm=2.3967\n",
      "[iter 100] loss=2.3205 val_loss=0.0000 scale=1.0000 norm=2.1060\n",
      "[iter 200] loss=2.2442 val_loss=0.0000 scale=1.0000 norm=1.9844\n",
      "[iter 300] loss=2.1857 val_loss=0.0000 scale=1.0000 norm=1.8995\n",
      "[iter 400] loss=2.1342 val_loss=0.0000 scale=1.0000 norm=1.8275\n",
      "\n",
      "✅ NGB R²: 0.4727 | RMSE: 2.1743\n"
     ]
    }
   ],
   "execution_count": 15
  },
  {
   "metadata": {
    "ExecuteTime": {
     "end_time": "2025-05-14T11:41:16.032712Z",
     "start_time": "2025-05-14T07:36:12.317239Z"
    }
   },
   "cell_type": "code",
   "source": [
    "y_test_pred = regressor.predict(X_test)\n",
    "\n",
    "# Step 8: Save submission\n",
    "submission = pd.DataFrame({\n",
    "    \"id\": test_df_final[\"id\"],\n",
    "    \"target\": y_test_pred\n",
    "})\n",
    "now = datetime.now().strftime(\"%Y%m%d_%H%M%S\")\n",
    "submission.to_csv(f'./output/submission_ngb_{now}.csv', index=False)"
   ],
   "id": "ccd1f2d7f366c7b0",
   "outputs": [],
   "execution_count": 170
  },
  {
   "metadata": {
    "ExecuteTime": {
     "end_time": "2025-05-14T11:41:16.032871Z",
     "start_time": "2025-05-14T07:35:32.357210Z"
    }
   },
   "cell_type": "code",
   "source": "",
   "id": "af0cae2cc1141ee3",
   "outputs": [],
   "execution_count": null
  }
 ],
 "metadata": {
  "kernelspec": {
   "display_name": "Python 3",
   "language": "python",
   "name": "python3"
  },
  "language_info": {
   "codemirror_mode": {
    "name": "ipython",
    "version": 2
   },
   "file_extension": ".py",
   "mimetype": "text/x-python",
   "name": "python",
   "nbconvert_exporter": "python",
   "pygments_lexer": "ipython2",
   "version": "2.7.6"
  }
 },
 "nbformat": 4,
 "nbformat_minor": 5
}
