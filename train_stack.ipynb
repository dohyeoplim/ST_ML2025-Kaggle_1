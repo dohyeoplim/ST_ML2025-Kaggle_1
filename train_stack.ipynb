{
 "cells": [
  {
   "cell_type": "code",
   "id": "initial_id",
   "metadata": {
    "collapsed": true,
    "ExecuteTime": {
     "end_time": "2025-05-13T10:08:25.957Z",
     "start_time": "2025-05-13T10:08:25.950807Z"
    }
   },
   "source": [
    "import pandas as pd\n",
    "import numpy as np\n",
    "from sklearn.ensemble import StackingRegressor\n",
    "from sklearn.linear_model import Ridge\n",
    "from xgboost import XGBRegressor\n",
    "from lightgbm import LGBMRegressor\n",
    "from sklearn.svm import SVR\n",
    "from sklearn.neural_network import MLPRegressor\n",
    "from sklearn import set_config\n",
    "from sklearn.preprocessing import StandardScaler\n",
    "from sklearn.model_selection import train_test_split\n",
    "from sklearn.metrics import r2_score, root_mean_squared_error\n",
    "import warnings\n",
    "from datetime import datetime\n",
    "import matplotlib.pyplot as plt\n",
    "import shap"
   ],
   "outputs": [],
   "execution_count": 26
  },
  {
   "metadata": {
    "ExecuteTime": {
     "end_time": "2025-05-13T10:08:25.986045Z",
     "start_time": "2025-05-13T10:08:25.983446Z"
    }
   },
   "cell_type": "code",
   "source": [
    "warnings.filterwarnings('ignore')\n",
    "set_config(enable_metadata_routing=True)"
   ],
   "id": "b3823c6ee3a6aaa9",
   "outputs": [],
   "execution_count": 27
  },
  {
   "metadata": {
    "ExecuteTime": {
     "end_time": "2025-05-13T10:08:26.076617Z",
     "start_time": "2025-05-13T10:08:26.003897Z"
    }
   },
   "cell_type": "code",
   "source": [
    "train_df_final = pd.read_csv('./input/processed/train_df_final_v5.csv')\n",
    "test_df_final = pd.read_csv('./input/processed/test_df_final_v5.csv')"
   ],
   "id": "8760a9284af2dfa2",
   "outputs": [],
   "execution_count": 28
  },
  {
   "metadata": {
    "ExecuteTime": {
     "end_time": "2025-05-13T10:08:26.105859Z",
     "start_time": "2025-05-13T10:08:26.099324Z"
    }
   },
   "cell_type": "code",
   "source": "train_df_final.head()",
   "id": "e5c72425a94b9c92",
   "outputs": [
    {
     "data": {
      "text/plain": [
       "   id  climatology_temp    target    elev      lat       lon   doy_sin  \\\n",
       "0   0         -2.707143 -3.992857  115.62  37.9019  127.0607  0.017213   \n",
       "1   1         -3.646429 -1.653571  115.62  37.9019  127.0607  0.034422   \n",
       "2   2         -2.694643 -0.005357  115.62  37.9019  127.0607  0.051620   \n",
       "3   3         -2.501786 -0.898214  115.62  37.9019  127.0607  0.068802   \n",
       "4   4         -2.625000 -1.775000  115.62  37.9019  127.0607  0.085965   \n",
       "\n",
       "    doy_cos  day_of_year  day_length  ...  lat_weighted_doy  \\\n",
       "0  0.999852            1    9.426812  ...          0.103841   \n",
       "1  0.999407            2    9.437325  ...          0.207682   \n",
       "2  0.998667            3    9.448699  ...          0.311522   \n",
       "3  0.997630            4    9.460926  ...          0.415363   \n",
       "4  0.996298            5    9.473997  ...          0.519204   \n",
       "\n",
       "   lat_season_residual  cos_lat_x_day  sin_lat_x_day  temp_anomaly_cos_doy  \\\n",
       "0            36.902048       0.789064       0.614311             -2.875764   \n",
       "1            36.902493       1.578127       1.228623             -2.114817   \n",
       "2            36.903233       2.367191       1.842934             -2.622689   \n",
       "3            36.904270       3.156255       2.457245             -1.415685   \n",
       "4            36.905602       3.945319       3.071557             -0.763829   \n",
       "\n",
       "   residual_anomaly  scaled_residual_anomaly  residual_percentile_x_scaled  \\\n",
       "0         -0.169048                -0.426195                     -0.345253   \n",
       "1          1.530357                 3.083018                      2.643526   \n",
       "2          0.068452                 0.159551                      0.130331   \n",
       "3          1.082738                 1.840773                      1.543743   \n",
       "4          1.858333                 2.773454                      2.363730   \n",
       "\n",
       "   dp_evening_gauss  column_energy_pca  \n",
       "0         -2.114475         -22.454044  \n",
       "1         -2.072166         -23.980122  \n",
       "2         -2.328495         -25.886439  \n",
       "3         -0.929263         -16.235648  \n",
       "4         -2.580673         -28.857901  \n",
       "\n",
       "[5 rows x 63 columns]"
      ],
      "text/html": [
       "<div>\n",
       "<style scoped>\n",
       "    .dataframe tbody tr th:only-of-type {\n",
       "        vertical-align: middle;\n",
       "    }\n",
       "\n",
       "    .dataframe tbody tr th {\n",
       "        vertical-align: top;\n",
       "    }\n",
       "\n",
       "    .dataframe thead th {\n",
       "        text-align: right;\n",
       "    }\n",
       "</style>\n",
       "<table border=\"1\" class=\"dataframe\">\n",
       "  <thead>\n",
       "    <tr style=\"text-align: right;\">\n",
       "      <th></th>\n",
       "      <th>id</th>\n",
       "      <th>climatology_temp</th>\n",
       "      <th>target</th>\n",
       "      <th>elev</th>\n",
       "      <th>lat</th>\n",
       "      <th>lon</th>\n",
       "      <th>doy_sin</th>\n",
       "      <th>doy_cos</th>\n",
       "      <th>day_of_year</th>\n",
       "      <th>day_length</th>\n",
       "      <th>...</th>\n",
       "      <th>lat_weighted_doy</th>\n",
       "      <th>lat_season_residual</th>\n",
       "      <th>cos_lat_x_day</th>\n",
       "      <th>sin_lat_x_day</th>\n",
       "      <th>temp_anomaly_cos_doy</th>\n",
       "      <th>residual_anomaly</th>\n",
       "      <th>scaled_residual_anomaly</th>\n",
       "      <th>residual_percentile_x_scaled</th>\n",
       "      <th>dp_evening_gauss</th>\n",
       "      <th>column_energy_pca</th>\n",
       "    </tr>\n",
       "  </thead>\n",
       "  <tbody>\n",
       "    <tr>\n",
       "      <th>0</th>\n",
       "      <td>0</td>\n",
       "      <td>-2.707143</td>\n",
       "      <td>-3.992857</td>\n",
       "      <td>115.62</td>\n",
       "      <td>37.9019</td>\n",
       "      <td>127.0607</td>\n",
       "      <td>0.017213</td>\n",
       "      <td>0.999852</td>\n",
       "      <td>1</td>\n",
       "      <td>9.426812</td>\n",
       "      <td>...</td>\n",
       "      <td>0.103841</td>\n",
       "      <td>36.902048</td>\n",
       "      <td>0.789064</td>\n",
       "      <td>0.614311</td>\n",
       "      <td>-2.875764</td>\n",
       "      <td>-0.169048</td>\n",
       "      <td>-0.426195</td>\n",
       "      <td>-0.345253</td>\n",
       "      <td>-2.114475</td>\n",
       "      <td>-22.454044</td>\n",
       "    </tr>\n",
       "    <tr>\n",
       "      <th>1</th>\n",
       "      <td>1</td>\n",
       "      <td>-3.646429</td>\n",
       "      <td>-1.653571</td>\n",
       "      <td>115.62</td>\n",
       "      <td>37.9019</td>\n",
       "      <td>127.0607</td>\n",
       "      <td>0.034422</td>\n",
       "      <td>0.999407</td>\n",
       "      <td>2</td>\n",
       "      <td>9.437325</td>\n",
       "      <td>...</td>\n",
       "      <td>0.207682</td>\n",
       "      <td>36.902493</td>\n",
       "      <td>1.578127</td>\n",
       "      <td>1.228623</td>\n",
       "      <td>-2.114817</td>\n",
       "      <td>1.530357</td>\n",
       "      <td>3.083018</td>\n",
       "      <td>2.643526</td>\n",
       "      <td>-2.072166</td>\n",
       "      <td>-23.980122</td>\n",
       "    </tr>\n",
       "    <tr>\n",
       "      <th>2</th>\n",
       "      <td>2</td>\n",
       "      <td>-2.694643</td>\n",
       "      <td>-0.005357</td>\n",
       "      <td>115.62</td>\n",
       "      <td>37.9019</td>\n",
       "      <td>127.0607</td>\n",
       "      <td>0.051620</td>\n",
       "      <td>0.998667</td>\n",
       "      <td>3</td>\n",
       "      <td>9.448699</td>\n",
       "      <td>...</td>\n",
       "      <td>0.311522</td>\n",
       "      <td>36.903233</td>\n",
       "      <td>2.367191</td>\n",
       "      <td>1.842934</td>\n",
       "      <td>-2.622689</td>\n",
       "      <td>0.068452</td>\n",
       "      <td>0.159551</td>\n",
       "      <td>0.130331</td>\n",
       "      <td>-2.328495</td>\n",
       "      <td>-25.886439</td>\n",
       "    </tr>\n",
       "    <tr>\n",
       "      <th>3</th>\n",
       "      <td>3</td>\n",
       "      <td>-2.501786</td>\n",
       "      <td>-0.898214</td>\n",
       "      <td>115.62</td>\n",
       "      <td>37.9019</td>\n",
       "      <td>127.0607</td>\n",
       "      <td>0.068802</td>\n",
       "      <td>0.997630</td>\n",
       "      <td>4</td>\n",
       "      <td>9.460926</td>\n",
       "      <td>...</td>\n",
       "      <td>0.415363</td>\n",
       "      <td>36.904270</td>\n",
       "      <td>3.156255</td>\n",
       "      <td>2.457245</td>\n",
       "      <td>-1.415685</td>\n",
       "      <td>1.082738</td>\n",
       "      <td>1.840773</td>\n",
       "      <td>1.543743</td>\n",
       "      <td>-0.929263</td>\n",
       "      <td>-16.235648</td>\n",
       "    </tr>\n",
       "    <tr>\n",
       "      <th>4</th>\n",
       "      <td>4</td>\n",
       "      <td>-2.625000</td>\n",
       "      <td>-1.775000</td>\n",
       "      <td>115.62</td>\n",
       "      <td>37.9019</td>\n",
       "      <td>127.0607</td>\n",
       "      <td>0.085965</td>\n",
       "      <td>0.996298</td>\n",
       "      <td>5</td>\n",
       "      <td>9.473997</td>\n",
       "      <td>...</td>\n",
       "      <td>0.519204</td>\n",
       "      <td>36.905602</td>\n",
       "      <td>3.945319</td>\n",
       "      <td>3.071557</td>\n",
       "      <td>-0.763829</td>\n",
       "      <td>1.858333</td>\n",
       "      <td>2.773454</td>\n",
       "      <td>2.363730</td>\n",
       "      <td>-2.580673</td>\n",
       "      <td>-28.857901</td>\n",
       "    </tr>\n",
       "  </tbody>\n",
       "</table>\n",
       "<p>5 rows × 63 columns</p>\n",
       "</div>"
      ]
     },
     "execution_count": 29,
     "metadata": {},
     "output_type": "execute_result"
    }
   ],
   "execution_count": 29
  },
  {
   "metadata": {},
   "cell_type": "markdown",
   "source": "# Dataset Splitting",
   "id": "41b468a4672589b9"
  },
  {
   "metadata": {
    "ExecuteTime": {
     "end_time": "2025-05-13T10:08:26.159716Z",
     "start_time": "2025-05-13T10:08:26.145998Z"
    }
   },
   "cell_type": "code",
   "source": [
    "scaler = StandardScaler()\n",
    "\n",
    "features = [col for col in train_df_final.columns if col not in ['id', 'target']]\n",
    "\n",
    "X = train_df_final[features].values\n",
    "y = train_df_final['target'].values\n",
    "X_test = test_df_final[features].values\n",
    "\n",
    "X_train, X_val, y_train, y_val = train_test_split(X, y, test_size=0.2, random_state=32)\n",
    "\n",
    "X_train_scaled = scaler.fit_transform(X_train)\n",
    "X_val_scaled = scaler.transform(X_val)\n",
    "X_test_scaled = scaler.transform(X_test)"
   ],
   "id": "fa7ac8a0369aaa78",
   "outputs": [],
   "execution_count": 30
  },
  {
   "metadata": {},
   "cell_type": "markdown",
   "source": "# Fit",
   "id": "2209ca433de5fbf0"
  },
  {
   "metadata": {
    "ExecuteTime": {
     "end_time": "2025-05-13T10:09:12.663488Z",
     "start_time": "2025-05-13T10:08:26.200039Z"
    }
   },
   "cell_type": "code",
   "source": [
    "best_params_xgb = {'n_estimators': 6883, 'learning_rate': 0.020419270915512017, 'max_depth': 5, 'subsample': 0.898780629687246, 'colsample_bytree': 0.5642327039349159, 'min_child_weight': 0.1765471216265702, 'gamma': 0.0005651238065833414, 'reg_alpha': 0.4660141792358717, 'reg_lambda': 2.5927370390857117e-06}\n",
    "\n",
    "xgb_model = XGBRegressor(**best_params_xgb)\n",
    "# lgb_model = LGBMRegressor(n_estimators=5000, learning_rate=0.01, max_depth=5, random_state=32)\n",
    "ridge_model = Ridge(alpha=1.0)\n",
    "\n",
    "base_models = [\n",
    "    ('xgb', xgb_model),\n",
    "    ('ridge', Ridge(alpha=1.0))\n",
    "]\n",
    "\n",
    "meta_model = SVR(kernel='rbf', C=10, epsilon=0.1)\n",
    "\n",
    "\n",
    "stacked_model = StackingRegressor(\n",
    "    estimators=base_models,\n",
    "    final_estimator=meta_model,\n",
    "    passthrough=True,\n",
    "    cv=5,\n",
    "    n_jobs=-1\n",
    ")\n",
    "\n",
    "\n",
    "stacked_model.fit(X_train_scaled, y_train)\n",
    "\n",
    "y_pred = stacked_model.predict(X_val_scaled)\n",
    "r2 = r2_score(y_val, y_pred)\n",
    "rmse = root_mean_squared_error(y_val, y_pred)\n",
    "print(f\"\\n✅ Stacked R²: {r2:.4f} | RMSE: {rmse:.4f}\")"
   ],
   "id": "11f117a1cef870f7",
   "outputs": [
    {
     "name": "stdout",
     "output_type": "stream",
     "text": [
      "\n",
      "✅ Stacked R²: 0.7934 | RMSE: 1.3485\n"
     ]
    }
   ],
   "execution_count": 31
  },
  {
   "metadata": {},
   "cell_type": "markdown",
   "source": "# Residuals",
   "id": "2c7ba6f1bb5a56a2"
  },
  {
   "metadata": {
    "ExecuteTime": {
     "end_time": "2025-05-13T10:09:12.704192Z",
     "start_time": "2025-05-13T10:09:12.702070Z"
    }
   },
   "cell_type": "code",
   "source": [
    "# xgb = XGBRegressor(**best_params_xgb)\n",
    "# xgb.fit(X_train, y_train)\n",
    "#\n",
    "# explainer = shap.Explainer(xgb, X_train)\n",
    "# shap_values = explainer(X_train)\n",
    "#\n",
    "# mean_abs_shap = np.abs(shap_values.values).mean(axis=0)\n",
    "# shap_scores = pd.Series(mean_abs_shap, index=features)\n",
    "# top_50_features = shap_scores.sort_values(ascending=False).head(50).index.tolist()\n",
    "#\n",
    "# X_train_top = X_train[top_50_features]\n",
    "# X_val_top   = X_val[top_50_features]\n",
    "# X_test_top  = X_test[top_50_features]\n",
    "#\n",
    "# xgb_top = XGBRegressor(**best_params_xgb)\n",
    "# xgb_top.fit(X_train_top, y_train)\n",
    "#\n",
    "# residuals = y_train - xgb_top.predict(X_train_top)\n",
    "# ridge_residual = Ridge(alpha=1.0)\n",
    "# ridge_residual.fit(X_train_top, residuals)\n",
    "#\n",
    "# y_val_pred = xgb_top.predict(X_val_top) + ridge_residual.predict(X_val_top)\n",
    "# r2 = r2_score(y_val, y_val_pred)\n",
    "# rmse = root_mean_squared_error(y_val, y_val_pred)\n",
    "# print(f\"\\n✅ Final Ensemble R²: {r2:.4f} | RMSE: {rmse:.4f}\")"
   ],
   "id": "641c8b261327e175",
   "outputs": [],
   "execution_count": 32
  },
  {
   "metadata": {},
   "cell_type": "markdown",
   "source": "# Predict with Test Dataset",
   "id": "72edd514e83ee358"
  },
  {
   "metadata": {
    "ExecuteTime": {
     "end_time": "2025-05-13T10:09:12.732021Z",
     "start_time": "2025-05-13T10:09:12.730118Z"
    }
   },
   "cell_type": "code",
   "source": [
    "# y_test_pred = ridge_residual.predict(X_test_scaled)\n",
    "#\n",
    "# submission = pd.DataFrame({\n",
    "#     \"id\": test_df_final[\"id\"],\n",
    "#     \"target\": y_test_pred\n",
    "# })\n",
    "#\n",
    "# now = datetime.now().strftime(\"%Y%m%d_%H%M%S\")\n",
    "#\n",
    "# submission.to_csv(f'./output/submission_{now}.csv', index=False)"
   ],
   "id": "ccd1f2d7f366c7b0",
   "outputs": [],
   "execution_count": 33
  },
  {
   "metadata": {
    "ExecuteTime": {
     "end_time": "2025-05-13T10:09:12.759593Z",
     "start_time": "2025-05-13T10:09:12.758063Z"
    }
   },
   "cell_type": "code",
   "source": "",
   "id": "eed1539a9e1367eb",
   "outputs": [],
   "execution_count": null
  }
 ],
 "metadata": {
  "kernelspec": {
   "display_name": "Python 3",
   "language": "python",
   "name": "python3"
  },
  "language_info": {
   "codemirror_mode": {
    "name": "ipython",
    "version": 2
   },
   "file_extension": ".py",
   "mimetype": "text/x-python",
   "name": "python",
   "nbconvert_exporter": "python",
   "pygments_lexer": "ipython2",
   "version": "2.7.6"
  }
 },
 "nbformat": 4,
 "nbformat_minor": 5
}
