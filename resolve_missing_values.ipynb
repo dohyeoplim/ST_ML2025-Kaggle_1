{
 "cells": [
  {
   "cell_type": "code",
   "execution_count": 1,
   "id": "371d66ec703278d6",
   "metadata": {
    "ExecuteTime": {
     "end_time": "2025-05-08T02:41:29.293889Z",
     "start_time": "2025-05-08T02:41:29.289996Z"
    }
   },
   "outputs": [],
   "source": [
    "\n",
    "import pandas as pd\n",
    "import numpy as np\n",
    "import matplotlib.pyplot as plt\n",
    "import seaborn as sns\n",
    "import re\n",
    "from sklearn.impute import KNNImputer\n",
    "from sklearn.preprocessing import StandardScaler\n",
    "from scipy import stats\n",
    "import logging\n",
    "from typing import List, Dict, Optional, Tuple"
   ]
  },
  {
   "cell_type": "code",
   "execution_count": 2,
   "id": "de3c2049435c1008",
   "metadata": {
    "ExecuteTime": {
     "end_time": "2025-05-08T02:41:29.321579Z",
     "start_time": "2025-05-08T02:41:29.319697Z"
    }
   },
   "outputs": [],
   "source": [
    "logger = logging.getLogger(__name__)\n",
    "logging.basicConfig(level=logging.INFO, format='%(asctime)s - %(name)s - %(levelname)s - %(message)s')"
   ]
  },
  {
   "cell_type": "code",
   "execution_count": 3,
   "id": "3967744a4b0376c0",
   "metadata": {
    "ExecuteTime": {
     "end_time": "2025-05-08T02:41:29.523152Z",
     "start_time": "2025-05-08T02:41:29.340412Z"
    }
   },
   "outputs": [],
   "source": [
    "train_df = pd.read_csv(\"./input/train_dataset.csv\")\n",
    "test_df = pd.read_csv(\"./input/test_dataset.csv\")\n",
    "station_info_df = pd.read_csv(\"./input/station_info.csv\")\n",
    "sample_submission_df = pd.read_csv(\"./input/submission_sample.csv\")"
   ]
  },
  {
   "cell_type": "code",
   "execution_count": 4,
   "id": "9981b398cd0ebb4f",
   "metadata": {
    "ExecuteTime": {
     "end_time": "2025-05-08T02:41:29.544372Z",
     "start_time": "2025-05-08T02:41:29.542377Z"
    }
   },
   "outputs": [],
   "source": [
    "def extract_time_feature_bases(df: pd.DataFrame) -> List[str]:\n",
    "    time_cols = [col for col in df.columns if re.match(r\".+_\\d{1,2}$\", col)]\n",
    "    return sorted({col.rsplit(\"_\", 1)[0] for col in time_cols})"
   ]
  },
  {
   "cell_type": "markdown",
   "id": "be5445549e1166de",
   "metadata": {},
   "source": [
    "# Resolving missing values"
   ]
  },
  {
   "cell_type": "code",
   "execution_count": 5,
   "id": "5d08b124efd2ddfb",
   "metadata": {
    "ExecuteTime": {
     "end_time": "2025-05-08T02:41:29.565802Z",
     "start_time": "2025-05-08T02:41:29.563879Z"
    }
   },
   "outputs": [],
   "source": [
    "def convert_special_values_to_nan(df, special_values=[-9999, -999, -99, 9999]):\n",
    "    new_df = df.copy()\n",
    "    numeric_cols = new_df.select_dtypes(include=np.number).columns\n",
    "    for value in special_values:\n",
    "        count = (new_df[numeric_cols] == value).sum().sum()\n",
    "        if count > 0:\n",
    "            new_df[numeric_cols] = new_df[numeric_cols].replace(value, np.nan)\n",
    "    return new_df"
   ]
  },
  {
   "cell_type": "code",
   "execution_count": 6,
   "id": "c6fab0738d69c26a",
   "metadata": {
    "ExecuteTime": {
     "end_time": "2025-05-08T02:41:29.598236Z",
     "start_time": "2025-05-08T02:41:29.589316Z"
    }
   },
   "outputs": [],
   "source": [
    "def smart_median_imputation(df, feature_cols, group_cols=['station']):\n",
    "    result = df.copy()\n",
    "    valid_features = [col for col in feature_cols if col in result.columns and result[col].isna().any()]\n",
    "\n",
    "    for feature in valid_features:\n",
    "        for i in range(len(group_cols), 0, -1):\n",
    "            grp = group_cols[:i]\n",
    "            if all(g in result.columns for g in grp):\n",
    "                result[feature] = result.groupby(grp, observed=False)[feature].transform(lambda x: x.fillna(x.median()) if x.notna().any() else x)\n",
    "\n",
    "        if result[feature].isna().any():\n",
    "            global_median = result[feature].median()\n",
    "            fallback = 0 if pd.isna(global_median) else global_median\n",
    "            result[feature] = result[feature].fillna(fallback)\n",
    "            if pd.isna(global_median) and result[feature].isna().any():\n",
    "                print(f\"Warning: Could not impute column {feature} with median, filled with 0.\")\n",
    "\n",
    "    return result\n"
   ]
  },
  {
   "cell_type": "code",
   "execution_count": 7,
   "id": "97f655d4b3bad7cc",
   "metadata": {
    "ExecuteTime": {
     "end_time": "2025-05-08T02:41:29.623744Z",
     "start_time": "2025-05-08T02:41:29.620999Z"
    }
   },
   "outputs": [],
   "source": [
    "def domain_specific_imputation(df: pd.DataFrame, feature_prefix: str) -> pd.DataFrame:\n",
    "    df = df.copy()\n",
    "\n",
    "    is_changma = df['month'].isin([6, 7])\n",
    "\n",
    "    if feature_prefix == 'wind_direction':\n",
    "        cols = [f'{feature_prefix}_{h}' for h in range(24) if f'{feature_prefix}_{h}' in df.columns]\n",
    "        for col in cols:\n",
    "            mode_val = df.groupby('station')[col].transform(lambda x: x.mode().iloc[0] if not x.mode().empty else 0)\n",
    "            df[col] = df[col].fillna(mode_val).fillna(0)\n",
    "\n",
    "    elif feature_prefix == 'precipitation':\n",
    "        cols = [f'{feature_prefix}_{h}' for h in range(24) if f'{feature_prefix}_{h}' in df.columns]\n",
    "        for col in cols:\n",
    "            med = df[is_changma].groupby(['station', 'month'])[col].transform('median')\n",
    "            df.loc[is_changma, col] = df.loc[is_changma, col].fillna(med)\n",
    "            df.loc[~is_changma, col] = df.loc[~is_changma, col].fillna(0)\n",
    "\n",
    "    return df"
   ]
  },
  {
   "cell_type": "code",
   "execution_count": null,
   "id": "85609e6f",
   "metadata": {},
   "outputs": [],
   "source": [
    "import pandas as pd\n",
    "import numpy as np\n",
    "from sklearn.preprocessing import StandardScaler\n",
    "from sklearn.impute import KNNImputer\n",
    "\n",
    "def missing_values_pipeline(df: pd.DataFrame,\n",
    "                            n_neighbors: int = 5,\n",
    "                            max_interpolation_gap: int = 8) -> pd.DataFrame:\n",
    "    df_imputed = df.copy()\n",
    "\n",
    "    # 0. Date parsing & index setting\n",
    "    df_imputed['date'] = df_imputed['date'].astype(str)\n",
    "    mask_mmdd = df_imputed['date'].str.count('-') == 1\n",
    "    df_imputed.loc[mask_mmdd, 'date'] = '2025-' + df_imputed.loc[mask_mmdd, 'date']\n",
    "    df_imputed['date'] = pd.to_datetime(\n",
    "        df_imputed['date'], format='%Y-%m-%d', errors='coerce'\n",
    "    )\n",
    "    df_imputed = df_imputed[df_imputed['date'].notna()]\n",
    "    df_imputed.set_index('date', inplace=True)\n",
    "\n",
    "    # Temporal features\n",
    "    df_imputed['month'] = df_imputed.index.month\n",
    "    df_imputed['day_of_year'] = df_imputed.index.dayofyear\n",
    "\n",
    "    # 1. Special values to NaN\n",
    "    df_imputed = convert_special_values_to_nan(df_imputed)\n",
    "\n",
    "    # 2. Numeric columns selection\n",
    "    numeric = df_imputed.select_dtypes(include=np.number).columns.tolist()\n",
    "    exclude = ['id','station','station_name','latitude','longitude','elev','target']\n",
    "    cols_to_impute = [c for c in numeric if c not in exclude]\n",
    "\n",
    "    # 3. Station-wise linear + time interpolation\n",
    "    df_imputed[cols_to_impute] = (\n",
    "        df_imputed\n",
    "        .groupby('station_name')[cols_to_impute]\n",
    "        .transform(lambda x: x.interpolate(\n",
    "            method='linear', limit=max_interpolation_gap, limit_direction='both'\n",
    "        ))\n",
    "    )\n",
    "    df_imputed[cols_to_impute] = df_imputed[cols_to_impute].interpolate(\n",
    "        method='time', limit=max_interpolation_gap, limit_direction='both'\n",
    "    )\n",
    "    print(\"Step 1-2: Linear + time interpolation complete.\")\n",
    "\n",
    "    # 4. Domain-specific imputation\n",
    "    df_imputed = domain_specific_imputation(df_imputed, 'wind_direction')\n",
    "    df_imputed = domain_specific_imputation(df_imputed, 'precipitation')\n",
    "    print(\"Step 3: Domain-specific imputation complete.\")\n",
    "\n",
    "        # 5. KNN Imputation (skip all-NaN columns)\n",
    "    need_knn = [c for c in cols_to_impute if df_imputed[c].isna().any()]\n",
    "    # Exclude columns that are entirely NaN\n",
    "    all_nan = [c for c in need_knn if df_imputed[c].notna().sum() == 0]\n",
    "    need_knn = [c for c in need_knn if c not in all_nan]\n",
    "\n",
    "    if need_knn:\n",
    "        print(f\"Step 4: Applying KNN Imputation to {len(need_knn)} columns (excluded {len(all_nan)} all-NaN cols).\")\n",
    "        # Scale before KNN\n",
    "        scaler = StandardScaler()\n",
    "        scaled = scaler.fit_transform(df_imputed[need_knn])\n",
    "        df_scaled = pd.DataFrame(scaled, index=df_imputed.index, columns=need_knn)\n",
    "        # Apply KNNImputer\n",
    "        knn = KNNImputer(n_neighbors=n_neighbors, weights='distance')\n",
    "        imputed_array = knn.fit_transform(df_scaled)\n",
    "        # Inverse scale and assign\n",
    "        df_imputed.loc[:, need_knn] = scaler.inverse_transform(imputed_array)\n",
    "        print(\"Step 4: KNN Imputation complete.\")\n",
    "    else:\n",
    "        print(\"Step 4: No columns require KNN Imputation.\")\n",
    "\n",
    "    # 6. Fallback median imputation\n",
    "    need_med = [c for c in cols_to_impute if df_imputed[c].isna().any()]\n",
    "    if need_med:\n",
    "        print(f\"Step 5: Applying fallback median imputation to {len(need_med)} columns.\")\n",
    "        df_imputed = smart_median_imputation(\n",
    "            df_imputed, need_med, group_cols=['station_name']\n",
    "        )\n",
    "        df_imputed[need_med] = df_imputed[need_med].fillna(0)\n",
    "        print(\"Step 5: Fallback median imputation complete.\")\n",
    "    else:\n",
    "        print(\"Step 5: No columns require fallback median imputation.\")\n",
    "\n",
    "    # 7. Time-slot temperature imputation\n",
    "    slots = ['morning','afternoon','evening','night']\n",
    "    for slot in slots:\n",
    "        col = f\"temp_{slot}_avg\"\n",
    "        if col in df_imputed.columns:\n",
    "            df_imputed[col] = (\n",
    "                df_imputed\n",
    "                .groupby('station_name')[col]\n",
    "                .transform(lambda x: x.interpolate(\n",
    "                    method='time', limit=3, limit_direction='both'\n",
    "                ))\n",
    "            )\n",
    "            df_imputed[col] = df_imputed[col].fillna(method='ffill').fillna(method='bfill')\n",
    "    print(\"Step 6: Time-slot temperature imputation complete.\")\n",
    "\n",
    "    # 8. Dew point & humidity specialized imputation\n",
    "    for col in ['dew_point_avg','humidity_avg']:\n",
    "        if col in df_imputed.columns:\n",
    "            df_imputed[col] = (\n",
    "                df_imputed\n",
    "                .groupby(['station_name','month'])[col]\n",
    "                .transform(lambda x: x.fillna(x.median()))\n",
    "            )\n",
    "            df_imputed[col] = df_imputed[col].interpolate(\n",
    "                method='time', limit=3, limit_direction='both'\n",
    "            )\n",
    "    print(\"Step 7: Dew point & humidity imputation complete.\")\n",
    "\n",
    "    # 9. Cleanup and reset index\n",
    "    df_imputed = df_imputed.reset_index().drop(columns=['day_of_year'], errors='ignore')\n",
    "    \n",
    "    return df_imputed\n",
    "\n"
   ]
  },
  {
   "cell_type": "code",
   "execution_count": 9,
   "id": "9f0c69928ca2b503",
   "metadata": {
    "ExecuteTime": {
     "end_time": "2025-05-08T02:41:45.445821Z",
     "start_time": "2025-05-08T02:41:29.673320Z"
    }
   },
   "outputs": [
    {
     "name": "stdout",
     "output_type": "stream",
     "text": [
      "Step 1-2: Linear + time interpolation complete.\n",
      "Step 3: Domain-specific imputation complete.\n",
      "Step 4: Applying KNN Imputation to 77 columns (excluded 8 all-NaN cols).\n",
      "Step 4: KNN Imputation complete.\n",
      "Step 5: Applying fallback median imputation to 8 columns.\n",
      "Step 5: Fallback median imputation complete.\n",
      "Step 6: Time-slot temperature imputation complete.\n",
      "Step 7: Dew point & humidity imputation complete.\n"
     ]
    },
    {
     "name": "stderr",
     "output_type": "stream",
     "text": [
      "/home/codespace/.local/lib/python3.12/site-packages/numpy/lib/_nanfunctions_impl.py:1215: RuntimeWarning: Mean of empty slice\n",
      "  return np.nanmean(a, axis, out=out, keepdims=keepdims)\n",
      "/home/codespace/.local/lib/python3.12/site-packages/numpy/lib/_nanfunctions_impl.py:1215: RuntimeWarning: Mean of empty slice\n",
      "  return np.nanmean(a, axis, out=out, keepdims=keepdims)\n",
      "/home/codespace/.local/lib/python3.12/site-packages/numpy/lib/_nanfunctions_impl.py:1215: RuntimeWarning: Mean of empty slice\n",
      "  return np.nanmean(a, axis, out=out, keepdims=keepdims)\n",
      "/home/codespace/.local/lib/python3.12/site-packages/numpy/lib/_nanfunctions_impl.py:1215: RuntimeWarning: Mean of empty slice\n",
      "  return np.nanmean(a, axis, out=out, keepdims=keepdims)\n",
      "/home/codespace/.local/lib/python3.12/site-packages/numpy/lib/_nanfunctions_impl.py:1215: RuntimeWarning: Mean of empty slice\n",
      "  return np.nanmean(a, axis, out=out, keepdims=keepdims)\n",
      "/home/codespace/.local/lib/python3.12/site-packages/numpy/lib/_nanfunctions_impl.py:1215: RuntimeWarning: Mean of empty slice\n",
      "  return np.nanmean(a, axis, out=out, keepdims=keepdims)\n",
      "/home/codespace/.local/lib/python3.12/site-packages/numpy/lib/_nanfunctions_impl.py:1215: RuntimeWarning: Mean of empty slice\n",
      "  return np.nanmean(a, axis, out=out, keepdims=keepdims)\n",
      "/home/codespace/.local/lib/python3.12/site-packages/numpy/lib/_nanfunctions_impl.py:1215: RuntimeWarning: Mean of empty slice\n",
      "  return np.nanmean(a, axis, out=out, keepdims=keepdims)\n"
     ]
    },
    {
     "name": "stdout",
     "output_type": "stream",
     "text": [
      "Step 1-2: Linear + time interpolation complete.\n",
      "Step 3: Domain-specific imputation complete.\n",
      "Step 4: Applying KNN Imputation to 24 columns (excluded 9 all-NaN cols).\n",
      "Step 4: KNN Imputation complete.\n",
      "Step 5: Applying fallback median imputation to 9 columns.\n",
      "Step 5: Fallback median imputation complete.\n",
      "Step 6: Time-slot temperature imputation complete.\n",
      "Step 7: Dew point & humidity imputation complete.\n"
     ]
    },
    {
     "name": "stderr",
     "output_type": "stream",
     "text": [
      "/home/codespace/.local/lib/python3.12/site-packages/numpy/lib/_nanfunctions_impl.py:1215: RuntimeWarning: Mean of empty slice\n",
      "  return np.nanmean(a, axis, out=out, keepdims=keepdims)\n",
      "/home/codespace/.local/lib/python3.12/site-packages/numpy/lib/_nanfunctions_impl.py:1215: RuntimeWarning: Mean of empty slice\n",
      "  return np.nanmean(a, axis, out=out, keepdims=keepdims)\n",
      "/home/codespace/.local/lib/python3.12/site-packages/numpy/lib/_nanfunctions_impl.py:1215: RuntimeWarning: Mean of empty slice\n",
      "  return np.nanmean(a, axis, out=out, keepdims=keepdims)\n",
      "/home/codespace/.local/lib/python3.12/site-packages/numpy/lib/_nanfunctions_impl.py:1215: RuntimeWarning: Mean of empty slice\n",
      "  return np.nanmean(a, axis, out=out, keepdims=keepdims)\n",
      "/home/codespace/.local/lib/python3.12/site-packages/numpy/lib/_nanfunctions_impl.py:1215: RuntimeWarning: Mean of empty slice\n",
      "  return np.nanmean(a, axis, out=out, keepdims=keepdims)\n",
      "/home/codespace/.local/lib/python3.12/site-packages/numpy/lib/_nanfunctions_impl.py:1215: RuntimeWarning: Mean of empty slice\n",
      "  return np.nanmean(a, axis, out=out, keepdims=keepdims)\n",
      "/home/codespace/.local/lib/python3.12/site-packages/numpy/lib/_nanfunctions_impl.py:1215: RuntimeWarning: Mean of empty slice\n",
      "  return np.nanmean(a, axis, out=out, keepdims=keepdims)\n",
      "/home/codespace/.local/lib/python3.12/site-packages/numpy/lib/_nanfunctions_impl.py:1215: RuntimeWarning: Mean of empty slice\n",
      "  return np.nanmean(a, axis, out=out, keepdims=keepdims)\n",
      "/home/codespace/.local/lib/python3.12/site-packages/numpy/lib/_nanfunctions_impl.py:1215: RuntimeWarning: Mean of empty slice\n",
      "  return np.nanmean(a, axis, out=out, keepdims=keepdims)\n"
     ]
    }
   ],
   "source": [
    "train_df_imputed = missing_values_pipeline(train_df)\n",
    "test_df_imputed = missing_values_pipeline(test_df)"
   ]
  },
  {
   "cell_type": "code",
   "execution_count": 10,
   "id": "89b5e61d841c53cc",
   "metadata": {
    "ExecuteTime": {
     "end_time": "2025-05-08T02:41:45.484766Z",
     "start_time": "2025-05-08T02:41:45.478132Z"
    }
   },
   "outputs": [
    {
     "data": {
      "text/html": [
       "<div>\n",
       "<style scoped>\n",
       "    .dataframe tbody tr th:only-of-type {\n",
       "        vertical-align: middle;\n",
       "    }\n",
       "\n",
       "    .dataframe tbody tr th {\n",
       "        vertical-align: top;\n",
       "    }\n",
       "\n",
       "    .dataframe thead th {\n",
       "        text-align: right;\n",
       "    }\n",
       "</style>\n",
       "<table border=\"1\" class=\"dataframe\">\n",
       "  <thead>\n",
       "    <tr style=\"text-align: right;\">\n",
       "      <th></th>\n",
       "      <th>date</th>\n",
       "      <th>id</th>\n",
       "      <th>station</th>\n",
       "      <th>station_name</th>\n",
       "      <th>cloud_cover_0</th>\n",
       "      <th>cloud_cover_1</th>\n",
       "      <th>cloud_cover_10</th>\n",
       "      <th>cloud_cover_11</th>\n",
       "      <th>cloud_cover_12</th>\n",
       "      <th>cloud_cover_13</th>\n",
       "      <th>...</th>\n",
       "      <th>wind_speed_3</th>\n",
       "      <th>wind_speed_4</th>\n",
       "      <th>wind_speed_5</th>\n",
       "      <th>wind_speed_6</th>\n",
       "      <th>wind_speed_7</th>\n",
       "      <th>wind_speed_8</th>\n",
       "      <th>wind_speed_9</th>\n",
       "      <th>climatology_temp</th>\n",
       "      <th>target</th>\n",
       "      <th>month</th>\n",
       "    </tr>\n",
       "  </thead>\n",
       "  <tbody>\n",
       "    <tr>\n",
       "      <th>0</th>\n",
       "      <td>2025-01-01</td>\n",
       "      <td>0</td>\n",
       "      <td>98</td>\n",
       "      <td>동두천</td>\n",
       "      <td>0.0</td>\n",
       "      <td>0.0</td>\n",
       "      <td>9.0</td>\n",
       "      <td>0.0</td>\n",
       "      <td>3.0</td>\n",
       "      <td>3.0</td>\n",
       "      <td>...</td>\n",
       "      <td>0.6</td>\n",
       "      <td>0.3</td>\n",
       "      <td>0.7</td>\n",
       "      <td>0.6</td>\n",
       "      <td>0.7</td>\n",
       "      <td>0.8</td>\n",
       "      <td>0.1</td>\n",
       "      <td>-2.707143</td>\n",
       "      <td>-3.992857</td>\n",
       "      <td>1</td>\n",
       "    </tr>\n",
       "    <tr>\n",
       "      <th>1</th>\n",
       "      <td>2025-01-02</td>\n",
       "      <td>1</td>\n",
       "      <td>98</td>\n",
       "      <td>동두천</td>\n",
       "      <td>0.0</td>\n",
       "      <td>0.0</td>\n",
       "      <td>0.0</td>\n",
       "      <td>0.0</td>\n",
       "      <td>0.0</td>\n",
       "      <td>0.0</td>\n",
       "      <td>...</td>\n",
       "      <td>0.2</td>\n",
       "      <td>0.0</td>\n",
       "      <td>1.1</td>\n",
       "      <td>1.3</td>\n",
       "      <td>0.5</td>\n",
       "      <td>0.9</td>\n",
       "      <td>0.4</td>\n",
       "      <td>-3.646429</td>\n",
       "      <td>-1.653571</td>\n",
       "      <td>1</td>\n",
       "    </tr>\n",
       "    <tr>\n",
       "      <th>2</th>\n",
       "      <td>2025-01-03</td>\n",
       "      <td>2</td>\n",
       "      <td>98</td>\n",
       "      <td>동두천</td>\n",
       "      <td>0.0</td>\n",
       "      <td>0.0</td>\n",
       "      <td>0.0</td>\n",
       "      <td>0.0</td>\n",
       "      <td>0.0</td>\n",
       "      <td>0.0</td>\n",
       "      <td>...</td>\n",
       "      <td>1.5</td>\n",
       "      <td>0.8</td>\n",
       "      <td>0.8</td>\n",
       "      <td>0.9</td>\n",
       "      <td>1.0</td>\n",
       "      <td>1.1</td>\n",
       "      <td>0.1</td>\n",
       "      <td>-2.694643</td>\n",
       "      <td>-0.005357</td>\n",
       "      <td>1</td>\n",
       "    </tr>\n",
       "    <tr>\n",
       "      <th>3</th>\n",
       "      <td>2025-01-04</td>\n",
       "      <td>3</td>\n",
       "      <td>98</td>\n",
       "      <td>동두천</td>\n",
       "      <td>0.0</td>\n",
       "      <td>0.0</td>\n",
       "      <td>2.0</td>\n",
       "      <td>0.0</td>\n",
       "      <td>0.0</td>\n",
       "      <td>1.0</td>\n",
       "      <td>...</td>\n",
       "      <td>0.3</td>\n",
       "      <td>0.5</td>\n",
       "      <td>0.2</td>\n",
       "      <td>0.5</td>\n",
       "      <td>1.3</td>\n",
       "      <td>0.5</td>\n",
       "      <td>0.2</td>\n",
       "      <td>-2.501786</td>\n",
       "      <td>-0.898214</td>\n",
       "      <td>1</td>\n",
       "    </tr>\n",
       "    <tr>\n",
       "      <th>4</th>\n",
       "      <td>2025-01-05</td>\n",
       "      <td>4</td>\n",
       "      <td>98</td>\n",
       "      <td>동두천</td>\n",
       "      <td>0.0</td>\n",
       "      <td>0.0</td>\n",
       "      <td>0.0</td>\n",
       "      <td>0.0</td>\n",
       "      <td>0.0</td>\n",
       "      <td>0.0</td>\n",
       "      <td>...</td>\n",
       "      <td>1.1</td>\n",
       "      <td>1.6</td>\n",
       "      <td>1.4</td>\n",
       "      <td>1.8</td>\n",
       "      <td>0.5</td>\n",
       "      <td>1.1</td>\n",
       "      <td>0.6</td>\n",
       "      <td>-2.625000</td>\n",
       "      <td>-1.775000</td>\n",
       "      <td>1</td>\n",
       "    </tr>\n",
       "  </tbody>\n",
       "</table>\n",
       "<p>5 rows × 343 columns</p>\n",
       "</div>"
      ],
      "text/plain": [
       "        date  id  station station_name  cloud_cover_0  cloud_cover_1  \\\n",
       "0 2025-01-01   0       98          동두천            0.0            0.0   \n",
       "1 2025-01-02   1       98          동두천            0.0            0.0   \n",
       "2 2025-01-03   2       98          동두천            0.0            0.0   \n",
       "3 2025-01-04   3       98          동두천            0.0            0.0   \n",
       "4 2025-01-05   4       98          동두천            0.0            0.0   \n",
       "\n",
       "   cloud_cover_10  cloud_cover_11  cloud_cover_12  cloud_cover_13  ...  \\\n",
       "0             9.0             0.0             3.0             3.0  ...   \n",
       "1             0.0             0.0             0.0             0.0  ...   \n",
       "2             0.0             0.0             0.0             0.0  ...   \n",
       "3             2.0             0.0             0.0             1.0  ...   \n",
       "4             0.0             0.0             0.0             0.0  ...   \n",
       "\n",
       "   wind_speed_3  wind_speed_4  wind_speed_5  wind_speed_6  wind_speed_7  \\\n",
       "0           0.6           0.3           0.7           0.6           0.7   \n",
       "1           0.2           0.0           1.1           1.3           0.5   \n",
       "2           1.5           0.8           0.8           0.9           1.0   \n",
       "3           0.3           0.5           0.2           0.5           1.3   \n",
       "4           1.1           1.6           1.4           1.8           0.5   \n",
       "\n",
       "   wind_speed_8  wind_speed_9  climatology_temp    target  month  \n",
       "0           0.8           0.1         -2.707143 -3.992857      1  \n",
       "1           0.9           0.4         -3.646429 -1.653571      1  \n",
       "2           1.1           0.1         -2.694643 -0.005357      1  \n",
       "3           0.5           0.2         -2.501786 -0.898214      1  \n",
       "4           1.1           0.6         -2.625000 -1.775000      1  \n",
       "\n",
       "[5 rows x 343 columns]"
      ]
     },
     "execution_count": 10,
     "metadata": {},
     "output_type": "execute_result"
    }
   ],
   "source": [
    "train_df_imputed.head()"
   ]
  },
  {
   "cell_type": "code",
   "execution_count": 11,
   "id": "e8f98d6cccd62802",
   "metadata": {
    "ExecuteTime": {
     "end_time": "2025-05-08T02:41:45.554954Z",
     "start_time": "2025-05-08T02:41:45.547414Z"
    }
   },
   "outputs": [
    {
     "data": {
      "text/plain": [
       "np.True_"
      ]
     },
     "execution_count": 11,
     "metadata": {},
     "output_type": "execute_result"
    }
   ],
   "source": [
    "train_df_imputed.isna().sum().sum() == test_df_imputed.isna().sum().sum() == 0"
   ]
  },
  {
   "cell_type": "code",
   "execution_count": 12,
   "id": "897e15ac9d68ae2a",
   "metadata": {
    "ExecuteTime": {
     "end_time": "2025-05-08T02:41:45.629971Z",
     "start_time": "2025-05-08T02:41:45.628244Z"
    }
   },
   "outputs": [
    {
     "name": "stdout",
     "output_type": "stream",
     "text": [
      "(13120, 343) (3001, 342)\n"
     ]
    }
   ],
   "source": [
    "print(train_df_imputed.shape, test_df_imputed.shape)"
   ]
  },
  {
   "cell_type": "code",
   "execution_count": 13,
   "id": "14b721354f193a69",
   "metadata": {
    "ExecuteTime": {
     "end_time": "2025-05-08T02:41:47.248733Z",
     "start_time": "2025-05-08T02:41:45.703296Z"
    }
   },
   "outputs": [],
   "source": [
    "train_df_imputed.to_csv(\"./input/processed/train_df_imputed.csv\", index=False)\n",
    "test_df_imputed.to_csv(\"./input/processed/test_df_imputed.csv\", index=False)"
   ]
  }
 ],
 "metadata": {
  "kernelspec": {
   "display_name": "Python 3",
   "language": "python",
   "name": "python3"
  },
  "language_info": {
   "codemirror_mode": {
    "name": "ipython",
    "version": 3
   },
   "file_extension": ".py",
   "mimetype": "text/x-python",
   "name": "python",
   "nbconvert_exporter": "python",
   "pygments_lexer": "ipython3",
   "version": "3.12.1"
  }
 },
 "nbformat": 4,
 "nbformat_minor": 5
}
