{
 "cells": [
  {
   "cell_type": "code",
   "id": "initial_id",
   "metadata": {
    "collapsed": true,
    "ExecuteTime": {
     "end_time": "2025-05-14T10:20:44.756063Z",
     "start_time": "2025-05-14T10:20:43.352185Z"
    }
   },
   "source": [
    "import pandas as pd\n",
    "import numpy as np\n",
    "from sklearn.preprocessing import StandardScaler\n",
    "from sklearn.model_selection import train_test_split\n",
    "from sklearn.metrics import r2_score, root_mean_squared_error\n",
    "import warnings\n",
    "from datetime import datetime\n",
    "from tabpfn import TabPFNRegressor"
   ],
   "outputs": [],
   "execution_count": 1
  },
  {
   "metadata": {
    "ExecuteTime": {
     "end_time": "2025-05-14T10:20:44.983504Z",
     "start_time": "2025-05-14T10:20:44.981756Z"
    }
   },
   "cell_type": "code",
   "source": "warnings.filterwarnings('ignore')",
   "id": "b3823c6ee3a6aaa9",
   "outputs": [],
   "execution_count": 2
  },
  {
   "metadata": {
    "ExecuteTime": {
     "end_time": "2025-05-14T10:20:45.094385Z",
     "start_time": "2025-05-14T10:20:44.989784Z"
    }
   },
   "cell_type": "code",
   "source": [
    "train_df_final = pd.read_csv('./input/processed/train_df_final_v5.csv')\n",
    "test_df_final = pd.read_csv('./input/processed/test_df_final_v5.csv')"
   ],
   "id": "8760a9284af2dfa2",
   "outputs": [],
   "execution_count": 3
  },
  {
   "metadata": {
    "ExecuteTime": {
     "end_time": "2025-05-14T10:20:45.115679Z",
     "start_time": "2025-05-14T10:20:45.108369Z"
    }
   },
   "cell_type": "code",
   "source": "train_df_final.head()",
   "id": "e5c72425a94b9c92",
   "outputs": [
    {
     "data": {
      "text/plain": [
       "   id  climatology_temp    target    elev      lat       lon   doy_sin  \\\n",
       "0   0         -2.707143 -3.992857  115.62  37.9019  127.0607  0.017213   \n",
       "1   1         -3.646429 -1.653571  115.62  37.9019  127.0607  0.034422   \n",
       "2   2         -2.694643 -0.005357  115.62  37.9019  127.0607  0.051620   \n",
       "3   3         -2.501786 -0.898214  115.62  37.9019  127.0607  0.068802   \n",
       "4   4         -2.625000 -1.775000  115.62  37.9019  127.0607  0.085965   \n",
       "\n",
       "    doy_cos  day_of_year  day_length  ...  humid_evening_x_slp_std  \\\n",
       "0  0.999852            1    9.426812  ...                65.252515   \n",
       "1  0.999407            2    9.437325  ...                48.571459   \n",
       "2  0.998667            3    9.448699  ...                32.524114   \n",
       "3  0.997630            4    9.460926  ...               212.122251   \n",
       "4  0.996298            5    9.473997  ...                23.072707   \n",
       "\n",
       "   humid_cloud_stress_alt  humidity_cloud_dew_combo  dew_evening_x_doy  \\\n",
       "0                0.000000                 -0.000000         -17.183333   \n",
       "1                0.000000                 -0.000000         -34.066667   \n",
       "2                0.000000                 -0.000000         -55.650000   \n",
       "3               13.090675               -637.777778         -22.400000   \n",
       "4                0.000000                 -0.000000        -100.333333   \n",
       "\n",
       "   climatology_temp_x_doy_sin  climatology_temp_x_doy_cos  \\\n",
       "0                   -0.046599                   -2.706742   \n",
       "1                   -0.125516                   -3.644268   \n",
       "2                   -0.139097                   -2.691050   \n",
       "3                   -0.172129                   -2.495857   \n",
       "4                   -0.225658                   -2.615283   \n",
       "\n",
       "   station_month_anomaly_mean  station_month_anomaly_centered  \\\n",
       "0                    2.505358                       -2.674406   \n",
       "1                    2.505358                       -0.975001   \n",
       "2                    2.505358                       -2.436906   \n",
       "3                    2.505358                       -1.422620   \n",
       "4                    2.505358                       -0.647025   \n",
       "\n",
       "   station_norm_anomaly_x_humidity  dp_morning_x_climatology  \n",
       "0                        -2.435355                 45.209286  \n",
       "1                        17.277093                 60.530714  \n",
       "2                         0.812900                 42.260982  \n",
       "3                        29.573705                 36.776250  \n",
       "4                        19.704225                 38.150000  \n",
       "\n",
       "[5 rows x 103 columns]"
      ],
      "text/html": [
       "<div>\n",
       "<style scoped>\n",
       "    .dataframe tbody tr th:only-of-type {\n",
       "        vertical-align: middle;\n",
       "    }\n",
       "\n",
       "    .dataframe tbody tr th {\n",
       "        vertical-align: top;\n",
       "    }\n",
       "\n",
       "    .dataframe thead th {\n",
       "        text-align: right;\n",
       "    }\n",
       "</style>\n",
       "<table border=\"1\" class=\"dataframe\">\n",
       "  <thead>\n",
       "    <tr style=\"text-align: right;\">\n",
       "      <th></th>\n",
       "      <th>id</th>\n",
       "      <th>climatology_temp</th>\n",
       "      <th>target</th>\n",
       "      <th>elev</th>\n",
       "      <th>lat</th>\n",
       "      <th>lon</th>\n",
       "      <th>doy_sin</th>\n",
       "      <th>doy_cos</th>\n",
       "      <th>day_of_year</th>\n",
       "      <th>day_length</th>\n",
       "      <th>...</th>\n",
       "      <th>humid_evening_x_slp_std</th>\n",
       "      <th>humid_cloud_stress_alt</th>\n",
       "      <th>humidity_cloud_dew_combo</th>\n",
       "      <th>dew_evening_x_doy</th>\n",
       "      <th>climatology_temp_x_doy_sin</th>\n",
       "      <th>climatology_temp_x_doy_cos</th>\n",
       "      <th>station_month_anomaly_mean</th>\n",
       "      <th>station_month_anomaly_centered</th>\n",
       "      <th>station_norm_anomaly_x_humidity</th>\n",
       "      <th>dp_morning_x_climatology</th>\n",
       "    </tr>\n",
       "  </thead>\n",
       "  <tbody>\n",
       "    <tr>\n",
       "      <th>0</th>\n",
       "      <td>0</td>\n",
       "      <td>-2.707143</td>\n",
       "      <td>-3.992857</td>\n",
       "      <td>115.62</td>\n",
       "      <td>37.9019</td>\n",
       "      <td>127.0607</td>\n",
       "      <td>0.017213</td>\n",
       "      <td>0.999852</td>\n",
       "      <td>1</td>\n",
       "      <td>9.426812</td>\n",
       "      <td>...</td>\n",
       "      <td>65.252515</td>\n",
       "      <td>0.000000</td>\n",
       "      <td>-0.000000</td>\n",
       "      <td>-17.183333</td>\n",
       "      <td>-0.046599</td>\n",
       "      <td>-2.706742</td>\n",
       "      <td>2.505358</td>\n",
       "      <td>-2.674406</td>\n",
       "      <td>-2.435355</td>\n",
       "      <td>45.209286</td>\n",
       "    </tr>\n",
       "    <tr>\n",
       "      <th>1</th>\n",
       "      <td>1</td>\n",
       "      <td>-3.646429</td>\n",
       "      <td>-1.653571</td>\n",
       "      <td>115.62</td>\n",
       "      <td>37.9019</td>\n",
       "      <td>127.0607</td>\n",
       "      <td>0.034422</td>\n",
       "      <td>0.999407</td>\n",
       "      <td>2</td>\n",
       "      <td>9.437325</td>\n",
       "      <td>...</td>\n",
       "      <td>48.571459</td>\n",
       "      <td>0.000000</td>\n",
       "      <td>-0.000000</td>\n",
       "      <td>-34.066667</td>\n",
       "      <td>-0.125516</td>\n",
       "      <td>-3.644268</td>\n",
       "      <td>2.505358</td>\n",
       "      <td>-0.975001</td>\n",
       "      <td>17.277093</td>\n",
       "      <td>60.530714</td>\n",
       "    </tr>\n",
       "    <tr>\n",
       "      <th>2</th>\n",
       "      <td>2</td>\n",
       "      <td>-2.694643</td>\n",
       "      <td>-0.005357</td>\n",
       "      <td>115.62</td>\n",
       "      <td>37.9019</td>\n",
       "      <td>127.0607</td>\n",
       "      <td>0.051620</td>\n",
       "      <td>0.998667</td>\n",
       "      <td>3</td>\n",
       "      <td>9.448699</td>\n",
       "      <td>...</td>\n",
       "      <td>32.524114</td>\n",
       "      <td>0.000000</td>\n",
       "      <td>-0.000000</td>\n",
       "      <td>-55.650000</td>\n",
       "      <td>-0.139097</td>\n",
       "      <td>-2.691050</td>\n",
       "      <td>2.505358</td>\n",
       "      <td>-2.436906</td>\n",
       "      <td>0.812900</td>\n",
       "      <td>42.260982</td>\n",
       "    </tr>\n",
       "    <tr>\n",
       "      <th>3</th>\n",
       "      <td>3</td>\n",
       "      <td>-2.501786</td>\n",
       "      <td>-0.898214</td>\n",
       "      <td>115.62</td>\n",
       "      <td>37.9019</td>\n",
       "      <td>127.0607</td>\n",
       "      <td>0.068802</td>\n",
       "      <td>0.997630</td>\n",
       "      <td>4</td>\n",
       "      <td>9.460926</td>\n",
       "      <td>...</td>\n",
       "      <td>212.122251</td>\n",
       "      <td>13.090675</td>\n",
       "      <td>-637.777778</td>\n",
       "      <td>-22.400000</td>\n",
       "      <td>-0.172129</td>\n",
       "      <td>-2.495857</td>\n",
       "      <td>2.505358</td>\n",
       "      <td>-1.422620</td>\n",
       "      <td>29.573705</td>\n",
       "      <td>36.776250</td>\n",
       "    </tr>\n",
       "    <tr>\n",
       "      <th>4</th>\n",
       "      <td>4</td>\n",
       "      <td>-2.625000</td>\n",
       "      <td>-1.775000</td>\n",
       "      <td>115.62</td>\n",
       "      <td>37.9019</td>\n",
       "      <td>127.0607</td>\n",
       "      <td>0.085965</td>\n",
       "      <td>0.996298</td>\n",
       "      <td>5</td>\n",
       "      <td>9.473997</td>\n",
       "      <td>...</td>\n",
       "      <td>23.072707</td>\n",
       "      <td>0.000000</td>\n",
       "      <td>-0.000000</td>\n",
       "      <td>-100.333333</td>\n",
       "      <td>-0.225658</td>\n",
       "      <td>-2.615283</td>\n",
       "      <td>2.505358</td>\n",
       "      <td>-0.647025</td>\n",
       "      <td>19.704225</td>\n",
       "      <td>38.150000</td>\n",
       "    </tr>\n",
       "  </tbody>\n",
       "</table>\n",
       "<p>5 rows × 103 columns</p>\n",
       "</div>"
      ]
     },
     "execution_count": 4,
     "metadata": {},
     "output_type": "execute_result"
    }
   ],
   "execution_count": 4
  },
  {
   "metadata": {},
   "cell_type": "markdown",
   "source": "# Dataset Splitting",
   "id": "41b468a4672589b9"
  },
  {
   "metadata": {
    "ExecuteTime": {
     "end_time": "2025-05-14T10:20:45.158950Z",
     "start_time": "2025-05-14T10:20:45.152506Z"
    }
   },
   "cell_type": "code",
   "source": [
    "features = [col for col in train_df_final.columns if col not in ['id', 'target']]\n",
    "\n",
    "X = train_df_final[features].values\n",
    "y = train_df_final['target'].values\n",
    "X_test = test_df_final[features].values\n",
    "\n",
    "X_train, X_val, y_train, y_val = train_test_split(X, y, test_size=0.2, random_state=42)"
   ],
   "id": "fa7ac8a0369aaa78",
   "outputs": [],
   "execution_count": 5
  },
  {
   "metadata": {
    "jupyter": {
     "is_executing": true
    },
    "ExecuteTime": {
     "start_time": "2025-05-14T10:20:45.198036Z"
    }
   },
   "cell_type": "code",
   "source": [
    "regressor = TabPFNRegressor(device=\"cpu\", ignore_pretraining_limits=True, n_jobs=-1)\n",
    "\n",
    "# Step 5: Fit and predict\n",
    "regressor.fit(X_train, y_train)\n",
    "y_pred = regressor.predict(X_val)\n",
    "\n",
    "# Step 6: Evaluate\n",
    "r2 = r2_score(y_val, y_pred)\n",
    "rmse = root_mean_squared_error(y_val, y_pred)\n",
    "print(f\"\\n✅ TabPFN R²: {r2:.4f} | RMSE: {rmse:.4f}\")"
   ],
   "id": "11f117a1cef870f7",
   "outputs": [],
   "execution_count": null
  },
  {
   "metadata": {
    "ExecuteTime": {
     "end_time": "2025-05-14T10:22:38.674257Z",
     "start_time": "2025-05-14T07:36:12.317239Z"
    }
   },
   "cell_type": "code",
   "source": [
    "y_test_pred = regressor.predict(X_test)\n",
    "\n",
    "# Step 8: Save submission\n",
    "submission = pd.DataFrame({\n",
    "    \"id\": test_df_final[\"id\"],\n",
    "    \"target\": y_test_pred\n",
    "})\n",
    "now = datetime.now().strftime(\"%Y%m%d_%H%M%S\")\n",
    "submission.to_csv(f'./output/submission_tabpfn_{now}.csv', index=False)"
   ],
   "id": "ccd1f2d7f366c7b0",
   "outputs": [],
   "execution_count": 170
  },
  {
   "metadata": {
    "ExecuteTime": {
     "end_time": "2025-05-14T10:22:38.693131Z",
     "start_time": "2025-05-14T07:35:32.357210Z"
    }
   },
   "cell_type": "code",
   "source": "",
   "id": "af0cae2cc1141ee3",
   "outputs": [],
   "execution_count": null
  }
 ],
 "metadata": {
  "kernelspec": {
   "display_name": "Python 3",
   "language": "python",
   "name": "python3"
  },
  "language_info": {
   "codemirror_mode": {
    "name": "ipython",
    "version": 2
   },
   "file_extension": ".py",
   "mimetype": "text/x-python",
   "name": "python",
   "nbconvert_exporter": "python",
   "pygments_lexer": "ipython2",
   "version": "2.7.6"
  }
 },
 "nbformat": 4,
 "nbformat_minor": 5
}
