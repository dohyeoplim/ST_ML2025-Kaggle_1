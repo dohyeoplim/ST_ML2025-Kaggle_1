{
 "cells": [
  {
   "cell_type": "code",
   "id": "initial_id",
   "metadata": {
    "collapsed": true,
    "ExecuteTime": {
     "end_time": "2025-04-11T11:06:31.926051Z",
     "start_time": "2025-04-11T11:06:31.923684Z"
    }
   },
   "source": [
    "import pandas as pd\n",
    "import numpy as np\n",
    "import matplotlib.pyplot as plt\n",
    "import seaborn as sns"
   ],
   "outputs": [],
   "execution_count": 2
  },
  {
   "metadata": {
    "ExecuteTime": {
     "end_time": "2025-04-11T11:06:32.849966Z",
     "start_time": "2025-04-11T11:06:32.634584Z"
    }
   },
   "cell_type": "code",
   "source": [
    "train_df = pd.read_csv(\"./input/train_dataset.csv\")\n",
    "test_df = pd.read_csv(\"./input/test_dataset.csv\")\n",
    "station_info_df = pd.read_csv(\"./input/station_info.csv\")\n",
    "sample_submission_df = pd.read_csv(\"./input/submission_sample.csv\")"
   ],
   "id": "b17b5f37e5ffe2fc",
   "outputs": [],
   "execution_count": 3
  },
  {
   "metadata": {
    "ExecuteTime": {
     "end_time": "2025-04-11T11:07:29.073897Z",
     "start_time": "2025-04-11T11:07:29.067771Z"
    }
   },
   "cell_type": "code",
   "source": "train_df[\"station\"].value_counts() # train에는 station 6개, test는 2개",
   "id": "baabd4eda701a251",
   "outputs": [
    {
     "data": {
      "text/plain": [
       "station\n",
       "108    2191\n",
       "112    2191\n",
       "203    2189\n",
       "98     2187\n",
       "201    2187\n",
       "202    2187\n",
       "Name: count, dtype: int64"
      ]
     },
     "execution_count": 4,
     "metadata": {},
     "output_type": "execute_result"
    }
   ],
   "execution_count": 4
  },
  {
   "metadata": {
    "ExecuteTime": {
     "end_time": "2025-04-11T11:09:42.276242Z",
     "start_time": "2025-04-11T11:09:42.272417Z"
    }
   },
   "cell_type": "code",
   "source": [
    "col_num = train_df.shape[0]\n",
    "\n",
    "col_num / 6 / 6 # 6개 station, 6개년"
   ],
   "id": "69c4a7c7f8e49d05",
   "outputs": [
    {
     "data": {
      "text/plain": [
       "364.77777777777777"
      ]
     },
     "execution_count": 12,
     "metadata": {},
     "output_type": "execute_result"
    }
   ],
   "execution_count": 12
  },
  {
   "metadata": {
    "ExecuteTime": {
     "end_time": "2025-04-11T11:14:03.946637Z",
     "start_time": "2025-04-11T11:14:03.940882Z"
    }
   },
   "cell_type": "code",
   "source": "train_df[\"date\"].value_counts()",
   "id": "fe2b7e1ddc0e110d",
   "outputs": [
    {
     "data": {
      "text/plain": [
       "date\n",
       "01-01    36\n",
       "08-17    36\n",
       "09-06    36\n",
       "09-05    36\n",
       "09-04    36\n",
       "         ..\n",
       "10-31    35\n",
       "10-30    35\n",
       "03-20    34\n",
       "12-31    30\n",
       "02-29    12\n",
       "Name: count, Length: 366, dtype: int64"
      ]
     },
     "execution_count": 14,
     "metadata": {},
     "output_type": "execute_result"
    }
   ],
   "execution_count": 14
  },
  {
   "metadata": {
    "ExecuteTime": {
     "end_time": "2025-04-11T11:14:37.006683Z",
     "start_time": "2025-04-11T11:14:37.004520Z"
    }
   },
   "cell_type": "code",
   "source": "print(station_info_df.지점명)",
   "id": "64e76f6287bbd137",
   "outputs": [
    {
     "name": "stdout",
     "output_type": "stream",
     "text": [
      "0    동두천\n",
      "1     파주\n",
      "2     강화\n",
      "3     인천\n",
      "4     이천\n",
      "5     양평\n",
      "6     서울\n",
      "7     수원\n",
      "8     수원\n",
      "Name: 지점명, dtype: object\n"
     ]
    }
   ],
   "execution_count": 18
  },
  {
   "metadata": {
    "ExecuteTime": {
     "end_time": "2025-04-11T11:20:35.208701Z",
     "start_time": "2025-04-11T11:20:35.193424Z"
    }
   },
   "cell_type": "code",
   "source": "test_df.head()",
   "id": "78d60e31bdef3f13",
   "outputs": [
    {
     "data": {
      "text/plain": [
       "   id  station station_name   date  cloud_cover_0  cloud_cover_1  \\\n",
       "0   0       99           파주  06-26            0.0            0.0   \n",
       "1   1      119           수원  01-11            0.0            0.0   \n",
       "2   2      119           수원  02-23            5.0            6.0   \n",
       "3   3      119           수원  05-29            0.0            0.0   \n",
       "4   4      119           수원  06-15            0.0            4.0   \n",
       "\n",
       "   cloud_cover_10  cloud_cover_11  cloud_cover_12  cloud_cover_13  ...  \\\n",
       "0             0.0             1.0             3.0             6.0  ...   \n",
       "1             0.0             0.0             0.0             0.0  ...   \n",
       "2             0.0             0.0             0.0             0.0  ...   \n",
       "3             0.0             0.0             0.0             0.0  ...   \n",
       "4             2.0             4.0             8.0             8.0  ...   \n",
       "\n",
       "   wind_speed_22  wind_speed_23  wind_speed_3  wind_speed_4  wind_speed_5  \\\n",
       "0            0.5            0.3           0.2           0.9           0.8   \n",
       "1            1.1            1.0           0.6           0.5           0.7   \n",
       "2            0.4            0.6           0.2           0.3           1.1   \n",
       "3            1.2            0.5           0.3           0.5           1.4   \n",
       "4            1.2            2.3           0.8           0.8           0.2   \n",
       "\n",
       "   wind_speed_6  wind_speed_7  wind_speed_8  wind_speed_9  climatology_temp  \n",
       "0           0.6           0.9           1.0           2.0         23.964286  \n",
       "1           0.2           0.1           0.1           0.3         -2.776786  \n",
       "2           0.7           0.7           1.4           1.6          2.100000  \n",
       "3           0.8           1.3           0.9           1.0         19.648214  \n",
       "4           1.1           0.6           3.3           1.8         21.964286  \n",
       "\n",
       "[5 rows x 341 columns]"
      ],
      "text/html": [
       "<div>\n",
       "<style scoped>\n",
       "    .dataframe tbody tr th:only-of-type {\n",
       "        vertical-align: middle;\n",
       "    }\n",
       "\n",
       "    .dataframe tbody tr th {\n",
       "        vertical-align: top;\n",
       "    }\n",
       "\n",
       "    .dataframe thead th {\n",
       "        text-align: right;\n",
       "    }\n",
       "</style>\n",
       "<table border=\"1\" class=\"dataframe\">\n",
       "  <thead>\n",
       "    <tr style=\"text-align: right;\">\n",
       "      <th></th>\n",
       "      <th>id</th>\n",
       "      <th>station</th>\n",
       "      <th>station_name</th>\n",
       "      <th>date</th>\n",
       "      <th>cloud_cover_0</th>\n",
       "      <th>cloud_cover_1</th>\n",
       "      <th>cloud_cover_10</th>\n",
       "      <th>cloud_cover_11</th>\n",
       "      <th>cloud_cover_12</th>\n",
       "      <th>cloud_cover_13</th>\n",
       "      <th>...</th>\n",
       "      <th>wind_speed_22</th>\n",
       "      <th>wind_speed_23</th>\n",
       "      <th>wind_speed_3</th>\n",
       "      <th>wind_speed_4</th>\n",
       "      <th>wind_speed_5</th>\n",
       "      <th>wind_speed_6</th>\n",
       "      <th>wind_speed_7</th>\n",
       "      <th>wind_speed_8</th>\n",
       "      <th>wind_speed_9</th>\n",
       "      <th>climatology_temp</th>\n",
       "    </tr>\n",
       "  </thead>\n",
       "  <tbody>\n",
       "    <tr>\n",
       "      <th>0</th>\n",
       "      <td>0</td>\n",
       "      <td>99</td>\n",
       "      <td>파주</td>\n",
       "      <td>06-26</td>\n",
       "      <td>0.0</td>\n",
       "      <td>0.0</td>\n",
       "      <td>0.0</td>\n",
       "      <td>1.0</td>\n",
       "      <td>3.0</td>\n",
       "      <td>6.0</td>\n",
       "      <td>...</td>\n",
       "      <td>0.5</td>\n",
       "      <td>0.3</td>\n",
       "      <td>0.2</td>\n",
       "      <td>0.9</td>\n",
       "      <td>0.8</td>\n",
       "      <td>0.6</td>\n",
       "      <td>0.9</td>\n",
       "      <td>1.0</td>\n",
       "      <td>2.0</td>\n",
       "      <td>23.964286</td>\n",
       "    </tr>\n",
       "    <tr>\n",
       "      <th>1</th>\n",
       "      <td>1</td>\n",
       "      <td>119</td>\n",
       "      <td>수원</td>\n",
       "      <td>01-11</td>\n",
       "      <td>0.0</td>\n",
       "      <td>0.0</td>\n",
       "      <td>0.0</td>\n",
       "      <td>0.0</td>\n",
       "      <td>0.0</td>\n",
       "      <td>0.0</td>\n",
       "      <td>...</td>\n",
       "      <td>1.1</td>\n",
       "      <td>1.0</td>\n",
       "      <td>0.6</td>\n",
       "      <td>0.5</td>\n",
       "      <td>0.7</td>\n",
       "      <td>0.2</td>\n",
       "      <td>0.1</td>\n",
       "      <td>0.1</td>\n",
       "      <td>0.3</td>\n",
       "      <td>-2.776786</td>\n",
       "    </tr>\n",
       "    <tr>\n",
       "      <th>2</th>\n",
       "      <td>2</td>\n",
       "      <td>119</td>\n",
       "      <td>수원</td>\n",
       "      <td>02-23</td>\n",
       "      <td>5.0</td>\n",
       "      <td>6.0</td>\n",
       "      <td>0.0</td>\n",
       "      <td>0.0</td>\n",
       "      <td>0.0</td>\n",
       "      <td>0.0</td>\n",
       "      <td>...</td>\n",
       "      <td>0.4</td>\n",
       "      <td>0.6</td>\n",
       "      <td>0.2</td>\n",
       "      <td>0.3</td>\n",
       "      <td>1.1</td>\n",
       "      <td>0.7</td>\n",
       "      <td>0.7</td>\n",
       "      <td>1.4</td>\n",
       "      <td>1.6</td>\n",
       "      <td>2.100000</td>\n",
       "    </tr>\n",
       "    <tr>\n",
       "      <th>3</th>\n",
       "      <td>3</td>\n",
       "      <td>119</td>\n",
       "      <td>수원</td>\n",
       "      <td>05-29</td>\n",
       "      <td>0.0</td>\n",
       "      <td>0.0</td>\n",
       "      <td>0.0</td>\n",
       "      <td>0.0</td>\n",
       "      <td>0.0</td>\n",
       "      <td>0.0</td>\n",
       "      <td>...</td>\n",
       "      <td>1.2</td>\n",
       "      <td>0.5</td>\n",
       "      <td>0.3</td>\n",
       "      <td>0.5</td>\n",
       "      <td>1.4</td>\n",
       "      <td>0.8</td>\n",
       "      <td>1.3</td>\n",
       "      <td>0.9</td>\n",
       "      <td>1.0</td>\n",
       "      <td>19.648214</td>\n",
       "    </tr>\n",
       "    <tr>\n",
       "      <th>4</th>\n",
       "      <td>4</td>\n",
       "      <td>119</td>\n",
       "      <td>수원</td>\n",
       "      <td>06-15</td>\n",
       "      <td>0.0</td>\n",
       "      <td>4.0</td>\n",
       "      <td>2.0</td>\n",
       "      <td>4.0</td>\n",
       "      <td>8.0</td>\n",
       "      <td>8.0</td>\n",
       "      <td>...</td>\n",
       "      <td>1.2</td>\n",
       "      <td>2.3</td>\n",
       "      <td>0.8</td>\n",
       "      <td>0.8</td>\n",
       "      <td>0.2</td>\n",
       "      <td>1.1</td>\n",
       "      <td>0.6</td>\n",
       "      <td>3.3</td>\n",
       "      <td>1.8</td>\n",
       "      <td>21.964286</td>\n",
       "    </tr>\n",
       "  </tbody>\n",
       "</table>\n",
       "<p>5 rows × 341 columns</p>\n",
       "</div>"
      ]
     },
     "execution_count": 23,
     "metadata": {},
     "output_type": "execute_result"
    }
   ],
   "execution_count": 23
  },
  {
   "metadata": {},
   "cell_type": "code",
   "outputs": [],
   "execution_count": null,
   "source": "",
   "id": "f6f75db661898499"
  }
 ],
 "metadata": {
  "kernelspec": {
   "display_name": "Python 3",
   "language": "python",
   "name": "python3"
  },
  "language_info": {
   "codemirror_mode": {
    "name": "ipython",
    "version": 2
   },
   "file_extension": ".py",
   "mimetype": "text/x-python",
   "name": "python",
   "nbconvert_exporter": "python",
   "pygments_lexer": "ipython2",
   "version": "2.7.6"
  }
 },
 "nbformat": 4,
 "nbformat_minor": 5
}
