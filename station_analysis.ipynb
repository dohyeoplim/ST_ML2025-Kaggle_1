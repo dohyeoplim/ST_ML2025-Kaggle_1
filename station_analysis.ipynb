{
 "cells": [
  {
   "metadata": {
    "ExecuteTime": {
     "end_time": "2025-05-07T13:47:48.697886Z",
     "start_time": "2025-05-07T13:47:48.695065Z"
    }
   },
   "cell_type": "code",
   "source": [
    "import pandas as pd\n",
    "import numpy as np\n",
    "import matplotlib.pyplot as plt\n",
    "import seaborn as sns"
   ],
   "id": "e043630b4e7b51c2",
   "outputs": [],
   "execution_count": 36
  },
  {
   "cell_type": "code",
   "id": "initial_id",
   "metadata": {
    "collapsed": true,
    "ExecuteTime": {
     "end_time": "2025-05-07T13:47:48.713482Z",
     "start_time": "2025-05-07T13:47:48.709758Z"
    }
   },
   "source": "station_info_df = pd.read_csv(\"input/station_info.csv\")",
   "outputs": [],
   "execution_count": 37
  },
  {
   "metadata": {
    "ExecuteTime": {
     "end_time": "2025-05-07T13:47:48.737319Z",
     "start_time": "2025-05-07T13:47:48.729335Z"
    }
   },
   "cell_type": "code",
   "source": [
    "station_info_df = (\n",
    "    station_info_df.rename(columns={\n",
    "        '지점': 'station',\n",
    "        '지점명': 'station_name',\n",
    "        '위도': 'lat',\n",
    "        '경도': 'lon',\n",
    "        '노장해발고도(m)': 'elev',\n",
    "        '기압계(관측장비지상높이(m))': 'pressure_sensor_h',\n",
    "        '기온계(관측장비지상높이(m))': 'temp_sensor_h',\n",
    "        '풍속계(관측장비지상높이(m))': 'wind_sensor_h',\n",
    "        '강우계(관측장비지상높이(m))': 'rain_sensor_h',\n",
    "    })\n",
    ")\n",
    "\n",
    "station_info_df = station_info_df.drop(columns=['시작일', '종료일'])\n",
    "\n",
    "# Dropping the old 수원 station info(since the dataset is from 2019, and the two 수원 data are very similar.)\n",
    "if station_info_df.iloc[-1]['elev'] == 34.84:\n",
    "    station_info_df = station_info_df.iloc[:-1]\n",
    "\n",
    "station_info_df"
   ],
   "id": "89b11bae09fa748e",
   "outputs": [
    {
     "data": {
      "text/plain": [
       "   station station_name      lat       lon    elev  pressure_sensor_h  \\\n",
       "0       98          동두천  37.9019  127.0607  115.62             116.74   \n",
       "1       99           파주  37.8859  126.7665   30.59              31.99   \n",
       "2      201           강화  37.7074  126.4463   47.84              49.24   \n",
       "3      112           인천  37.4777  126.6249   68.99              70.19   \n",
       "4      203           이천  37.2640  127.4842   80.09              81.59   \n",
       "5      202           양평  37.4886  127.4945   47.26              48.76   \n",
       "6      108           서울  37.5714  126.9658   85.67              86.67   \n",
       "7      119           수원  37.2575  126.9830   39.81              40.81   \n",
       "\n",
       "   temp_sensor_h  wind_sensor_h  rain_sensor_h  \n",
       "0            1.7           10.0            1.0  \n",
       "1            1.7           10.0            1.0  \n",
       "2            1.6           10.0            0.6  \n",
       "3            1.6           10.0            1.2  \n",
       "4            1.8           10.0            0.6  \n",
       "5            1.9           10.0            0.6  \n",
       "6            1.5           10.0            0.5  \n",
       "7            1.6           18.7            1.1  "
      ],
      "text/html": [
       "<div>\n",
       "<style scoped>\n",
       "    .dataframe tbody tr th:only-of-type {\n",
       "        vertical-align: middle;\n",
       "    }\n",
       "\n",
       "    .dataframe tbody tr th {\n",
       "        vertical-align: top;\n",
       "    }\n",
       "\n",
       "    .dataframe thead th {\n",
       "        text-align: right;\n",
       "    }\n",
       "</style>\n",
       "<table border=\"1\" class=\"dataframe\">\n",
       "  <thead>\n",
       "    <tr style=\"text-align: right;\">\n",
       "      <th></th>\n",
       "      <th>station</th>\n",
       "      <th>station_name</th>\n",
       "      <th>lat</th>\n",
       "      <th>lon</th>\n",
       "      <th>elev</th>\n",
       "      <th>pressure_sensor_h</th>\n",
       "      <th>temp_sensor_h</th>\n",
       "      <th>wind_sensor_h</th>\n",
       "      <th>rain_sensor_h</th>\n",
       "    </tr>\n",
       "  </thead>\n",
       "  <tbody>\n",
       "    <tr>\n",
       "      <th>0</th>\n",
       "      <td>98</td>\n",
       "      <td>동두천</td>\n",
       "      <td>37.9019</td>\n",
       "      <td>127.0607</td>\n",
       "      <td>115.62</td>\n",
       "      <td>116.74</td>\n",
       "      <td>1.7</td>\n",
       "      <td>10.0</td>\n",
       "      <td>1.0</td>\n",
       "    </tr>\n",
       "    <tr>\n",
       "      <th>1</th>\n",
       "      <td>99</td>\n",
       "      <td>파주</td>\n",
       "      <td>37.8859</td>\n",
       "      <td>126.7665</td>\n",
       "      <td>30.59</td>\n",
       "      <td>31.99</td>\n",
       "      <td>1.7</td>\n",
       "      <td>10.0</td>\n",
       "      <td>1.0</td>\n",
       "    </tr>\n",
       "    <tr>\n",
       "      <th>2</th>\n",
       "      <td>201</td>\n",
       "      <td>강화</td>\n",
       "      <td>37.7074</td>\n",
       "      <td>126.4463</td>\n",
       "      <td>47.84</td>\n",
       "      <td>49.24</td>\n",
       "      <td>1.6</td>\n",
       "      <td>10.0</td>\n",
       "      <td>0.6</td>\n",
       "    </tr>\n",
       "    <tr>\n",
       "      <th>3</th>\n",
       "      <td>112</td>\n",
       "      <td>인천</td>\n",
       "      <td>37.4777</td>\n",
       "      <td>126.6249</td>\n",
       "      <td>68.99</td>\n",
       "      <td>70.19</td>\n",
       "      <td>1.6</td>\n",
       "      <td>10.0</td>\n",
       "      <td>1.2</td>\n",
       "    </tr>\n",
       "    <tr>\n",
       "      <th>4</th>\n",
       "      <td>203</td>\n",
       "      <td>이천</td>\n",
       "      <td>37.2640</td>\n",
       "      <td>127.4842</td>\n",
       "      <td>80.09</td>\n",
       "      <td>81.59</td>\n",
       "      <td>1.8</td>\n",
       "      <td>10.0</td>\n",
       "      <td>0.6</td>\n",
       "    </tr>\n",
       "    <tr>\n",
       "      <th>5</th>\n",
       "      <td>202</td>\n",
       "      <td>양평</td>\n",
       "      <td>37.4886</td>\n",
       "      <td>127.4945</td>\n",
       "      <td>47.26</td>\n",
       "      <td>48.76</td>\n",
       "      <td>1.9</td>\n",
       "      <td>10.0</td>\n",
       "      <td>0.6</td>\n",
       "    </tr>\n",
       "    <tr>\n",
       "      <th>6</th>\n",
       "      <td>108</td>\n",
       "      <td>서울</td>\n",
       "      <td>37.5714</td>\n",
       "      <td>126.9658</td>\n",
       "      <td>85.67</td>\n",
       "      <td>86.67</td>\n",
       "      <td>1.5</td>\n",
       "      <td>10.0</td>\n",
       "      <td>0.5</td>\n",
       "    </tr>\n",
       "    <tr>\n",
       "      <th>7</th>\n",
       "      <td>119</td>\n",
       "      <td>수원</td>\n",
       "      <td>37.2575</td>\n",
       "      <td>126.9830</td>\n",
       "      <td>39.81</td>\n",
       "      <td>40.81</td>\n",
       "      <td>1.6</td>\n",
       "      <td>18.7</td>\n",
       "      <td>1.1</td>\n",
       "    </tr>\n",
       "  </tbody>\n",
       "</table>\n",
       "</div>"
      ]
     },
     "execution_count": 38,
     "metadata": {},
     "output_type": "execute_result"
    }
   ],
   "execution_count": 38
  },
  {
   "metadata": {
    "ExecuteTime": {
     "end_time": "2025-05-07T13:47:48.855319Z",
     "start_time": "2025-05-07T13:47:48.769108Z"
    }
   },
   "cell_type": "code",
   "source": [
    "cols = [col for col in station_info_df.columns if col not in [\"station_id\", \"station_name\"] ]\n",
    "\n",
    "plt.figure(figsize=(12, 5))\n",
    "sns.boxplot(station_info_df[cols])\n",
    "plt.title(\"Overall Fluctuations for Stations\")\n",
    "plt.show()"
   ],
   "id": "c6dc8f9ed70f8114",
   "outputs": [
    {
     "data": {
      "text/plain": [
       "<Figure size 1200x500 with 1 Axes>"
      ],
      "image/png": "[encoded data removed]"
     },
     "metadata": {},
     "output_type": "display_data"
    }
   ],
   "execution_count": 39
  },
  {
   "metadata": {
    "ExecuteTime": {
     "end_time": "2025-05-07T13:47:48.881284Z",
     "start_time": "2025-05-07T13:47:48.879380Z"
    }
   },
   "cell_type": "code",
   "source": [
    "# station_info_df = station_info_df.drop(columns=['station_name', 'lat', 'lon', 'temp_sensor_h', 'wind_sensor_h', 'rain_sensor_h'])\n",
    "station_info_df = station_info_df[['station', 'elev', 'lat']] # since elev and pressure_sensor_h are highly correlated."
   ],
   "id": "7ae5aecd4d10d386",
   "outputs": [],
   "execution_count": 40
  },
  {
   "metadata": {
    "ExecuteTime": {
     "end_time": "2025-05-07T13:47:48.901423Z",
     "start_time": "2025-05-07T13:47:48.898045Z"
    }
   },
   "cell_type": "code",
   "source": "station_info_df",
   "id": "bb4163d5a5565e8c",
   "outputs": [
    {
     "data": {
      "text/plain": [
       "   station    elev      lat\n",
       "0       98  115.62  37.9019\n",
       "1       99   30.59  37.8859\n",
       "2      201   47.84  37.7074\n",
       "3      112   68.99  37.4777\n",
       "4      203   80.09  37.2640\n",
       "5      202   47.26  37.4886\n",
       "6      108   85.67  37.5714\n",
       "7      119   39.81  37.2575"
      ],
      "text/html": [
       "<div>\n",
       "<style scoped>\n",
       "    .dataframe tbody tr th:only-of-type {\n",
       "        vertical-align: middle;\n",
       "    }\n",
       "\n",
       "    .dataframe tbody tr th {\n",
       "        vertical-align: top;\n",
       "    }\n",
       "\n",
       "    .dataframe thead th {\n",
       "        text-align: right;\n",
       "    }\n",
       "</style>\n",
       "<table border=\"1\" class=\"dataframe\">\n",
       "  <thead>\n",
       "    <tr style=\"text-align: right;\">\n",
       "      <th></th>\n",
       "      <th>station</th>\n",
       "      <th>elev</th>\n",
       "      <th>lat</th>\n",
       "    </tr>\n",
       "  </thead>\n",
       "  <tbody>\n",
       "    <tr>\n",
       "      <th>0</th>\n",
       "      <td>98</td>\n",
       "      <td>115.62</td>\n",
       "      <td>37.9019</td>\n",
       "    </tr>\n",
       "    <tr>\n",
       "      <th>1</th>\n",
       "      <td>99</td>\n",
       "      <td>30.59</td>\n",
       "      <td>37.8859</td>\n",
       "    </tr>\n",
       "    <tr>\n",
       "      <th>2</th>\n",
       "      <td>201</td>\n",
       "      <td>47.84</td>\n",
       "      <td>37.7074</td>\n",
       "    </tr>\n",
       "    <tr>\n",
       "      <th>3</th>\n",
       "      <td>112</td>\n",
       "      <td>68.99</td>\n",
       "      <td>37.4777</td>\n",
       "    </tr>\n",
       "    <tr>\n",
       "      <th>4</th>\n",
       "      <td>203</td>\n",
       "      <td>80.09</td>\n",
       "      <td>37.2640</td>\n",
       "    </tr>\n",
       "    <tr>\n",
       "      <th>5</th>\n",
       "      <td>202</td>\n",
       "      <td>47.26</td>\n",
       "      <td>37.4886</td>\n",
       "    </tr>\n",
       "    <tr>\n",
       "      <th>6</th>\n",
       "      <td>108</td>\n",
       "      <td>85.67</td>\n",
       "      <td>37.5714</td>\n",
       "    </tr>\n",
       "    <tr>\n",
       "      <th>7</th>\n",
       "      <td>119</td>\n",
       "      <td>39.81</td>\n",
       "      <td>37.2575</td>\n",
       "    </tr>\n",
       "  </tbody>\n",
       "</table>\n",
       "</div>"
      ]
     },
     "execution_count": 41,
     "metadata": {},
     "output_type": "execute_result"
    }
   ],
   "execution_count": 41
  },
  {
   "metadata": {
    "ExecuteTime": {
     "end_time": "2025-05-07T13:47:48.933454Z",
     "start_time": "2025-05-07T13:47:48.931150Z"
    }
   },
   "cell_type": "code",
   "source": "station_info_df.to_csv(\"input/processed/station_info_processed.csv\", index=False)",
   "id": "5cd74a0f063e7f95",
   "outputs": [],
   "execution_count": 42
  },
  {
   "metadata": {
    "ExecuteTime": {
     "end_time": "2025-05-07T13:47:48.956752Z",
     "start_time": "2025-05-07T13:47:48.955528Z"
    }
   },
   "cell_type": "code",
   "source": "",
   "id": "38c030ce71d3c00",
   "outputs": [],
   "execution_count": null
  }
 ],
 "metadata": {
  "kernelspec": {
   "display_name": "Python 3",
   "language": "python",
   "name": "python3"
  },
  "language_info": {
   "codemirror_mode": {
    "name": "ipython",
    "version": 2
   },
   "file_extension": ".py",
   "mimetype": "text/x-python",
   "name": "python",
   "nbconvert_exporter": "python",
   "pygments_lexer": "ipython2",
   "version": "2.7.6"
  }
 },
 "nbformat": 4,
 "nbformat_minor": 5
}
